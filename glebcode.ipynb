{
 "cells": [
  {
   "cell_type": "markdown",
   "id": "coordinate-federal",
   "metadata": {},
   "source": [
    "# Введение библиотек, обозначение пути, загрузка данных"
   ]
  },
  {
   "cell_type": "code",
   "execution_count": 1,
   "id": "intense-colombia",
   "metadata": {},
   "outputs": [],
   "source": [
    "import os\n",
    "RAW_DATA_DIR = 'data/raw/'\n",
    "OUTPUT_DATA_DIR = 'data/output/'\n",
    "PRO_DATA_DIR = 'products'\n",
    "PRODUCTS_DIR = os.path.join(RAW_DATA_DIR, PRO_DATA_DIR)"
   ]
  },
  {
   "cell_type": "code",
   "execution_count": 2,
   "id": "antique-siemens",
   "metadata": {},
   "outputs": [],
   "source": [
    "import numpy as np\n",
    "import pandas as pd\n",
    "import datetime as dt\n",
    "from matplotlib import pyplot as plt\n",
    "from tqdm import tqdm"
   ]
  },
  {
   "cell_type": "code",
   "execution_count": 3,
   "id": "responsible-denmark",
   "metadata": {},
   "outputs": [
    {
     "name": "stderr",
     "output_type": "stream",
     "text": [
      "100%|██████████| 6/6 [01:17<00:00, 12.83s/it]\n"
     ]
    }
   ],
   "source": [
    "# объединение партиций продуктов\n",
    "\n",
    "partitions = []\n",
    "for directory in tqdm(os.listdir(PRODUCTS_DIR)):\n",
    "    for path in os.listdir(os.path.join(PRODUCTS_DIR, directory)):\n",
    "        next_partition = pd.read_csv(os.path.join(PRODUCTS_DIR, directory, path)).astype({\n",
    "        \"user_id\": \"int32\", \"order_id\": \"int32\", \"line_item_id\": \"int32\", \"price\": \"float32\",\n",
    "        \"discount\": \"float32\", \"quantity\": \"int32\", \"product_id\": \"int32\", \"master_category_id\": \"Int32\", \"parent_category_id\": \"int32\"\n",
    "        })\n",
    "        partitions.append(next_partition)\n",
    "        \n",
    "\n",
    "products = pd.concat(partitions)"
   ]
  },
  {
   "cell_type": "code",
   "execution_count": 4,
   "id": "german-living",
   "metadata": {},
   "outputs": [],
   "source": [
    "orders = pd.read_csv(os.path.join(RAW_DATA_DIR, \"kaggle_tab_1345\", \"tab_1_orders.csv\")).astype({\n",
    "    \"order_id\": \"int32\", \"user_id\": \"int32\", \"store_id\": \"int32\"\n",
    "})\n",
    "product_properties = pd.read_csv(os.path.join(RAW_DATA_DIR, \"kaggle_tab_1345\", \"tab_5_product_properties.csv\")).astype({\n",
    "    \"product_id\": \"int32\"\n",
    "})\n",
    "categories = pd.read_csv(os.path.join(RAW_DATA_DIR, \"kaggle_tab_1345\", \"tab_3_categories.csv\"))\n",
    "city = pd.read_csv(os.path.join(RAW_DATA_DIR, \"tab_6_city.csv\"))\n",
    "user_profiles = pd.read_csv(os.path.join(RAW_DATA_DIR, \"kaggle_tab_1345\", \"tab_4_user_profiles.csv\")).astype({\n",
    "    \"user_id\": \"int32\"\n",
    "})"
   ]
  },
  {
   "cell_type": "code",
   "execution_count": 5,
   "id": "rocky-federation",
   "metadata": {
    "scrolled": false
   },
   "outputs": [
    {
     "data": {
      "text/plain": [
       "67"
      ]
     },
     "execution_count": 5,
     "metadata": {},
     "output_type": "execute_result"
    }
   ],
   "source": [
    "import gc\n",
    "\n",
    "del partitions\n",
    "\n",
    "gc.collect()"
   ]
  },
  {
   "cell_type": "code",
   "execution_count": 6,
   "id": "monetary-miniature",
   "metadata": {},
   "outputs": [
    {
     "name": "stdout",
     "output_type": "stream",
     "text": [
      "<class 'pandas.core.frame.DataFrame'>\n",
      "Int64Index: 59596980 entries, 0 to 2703094\n",
      "Data columns (total 11 columns):\n",
      " #   Column              Dtype  \n",
      "---  ------              -----  \n",
      " 0   user_id             int32  \n",
      " 1   order_id            int32  \n",
      " 2   line_item_id        int32  \n",
      " 3   price               float32\n",
      " 4   quantity            int32  \n",
      " 5   discount            float32\n",
      " 6   product_name        object \n",
      " 7   product_id          int32  \n",
      " 8   brand_name          object \n",
      " 9   master_category_id  Int32  \n",
      " 10  parent_category_id  int32  \n",
      "dtypes: Int32(1), float32(2), int32(6), object(2)\n",
      "memory usage: 3.4+ GB\n"
     ]
    }
   ],
   "source": [
    "products.info()"
   ]
  },
  {
   "cell_type": "markdown",
   "id": "engaged-beatles",
   "metadata": {},
   "source": [
    "# Удаление простого мусора и проверка"
   ]
  },
  {
   "cell_type": "markdown",
   "id": "square-consultation",
   "metadata": {},
   "source": [
    "## Продукты"
   ]
  },
  {
   "cell_type": "code",
   "execution_count": 7,
   "id": "challenging-healing",
   "metadata": {
    "scrolled": false
   },
   "outputs": [
    {
     "data": {
      "text/plain": [
       "[user_id                     0\n",
       " order_id                    0\n",
       " line_item_id                0\n",
       " price                       0\n",
       " quantity                    0\n",
       " discount                    0\n",
       " product_name                0\n",
       " product_id                  0\n",
       " brand_name            7693091\n",
       " master_category_id      10797\n",
       " parent_category_id          0\n",
       " dtype: int64,\n",
       " 0,\n",
       " 0,\n",
       " 0]"
      ]
     },
     "execution_count": 7,
     "metadata": {},
     "output_type": "execute_result"
    }
   ],
   "source": [
    "products[\"brand_name\"] = products[\"brand_name\"].replace([\"Без бренда\",'-','No brand'], np.nan)\n",
    "products = products.dropna(subset=['price', 'discount', 'quantity', 'product_name'])\n",
    "products = products[products['price']>0]\n",
    "products = products[products['quantity']>0]\n",
    "products = products[products['discount']>=0]\n",
    "\n",
    "# проверка\n",
    "[products.isna().sum(),\n",
    "len(products[products[\"price\"] <= 0]),\n",
    "len(products[products[\"quantity\"] <= 0]),\n",
    "len(products[products[\"discount\"] < 0])]"
   ]
  },
  {
   "cell_type": "markdown",
   "id": "stone-immunology",
   "metadata": {},
   "source": [
    "## Свойства продуктов"
   ]
  },
  {
   "cell_type": "code",
   "execution_count": 8,
   "id": "gross-education",
   "metadata": {
    "scrolled": true
   },
   "outputs": [
    {
     "data": {
      "text/plain": [
       "product_id        0\n",
       "property_name     0\n",
       "property_value    1\n",
       "dtype: int64"
      ]
     },
     "execution_count": 8,
     "metadata": {},
     "output_type": "execute_result"
    }
   ],
   "source": [
    "product_properties.isna().sum(axis=0)"
   ]
  },
  {
   "cell_type": "code",
   "execution_count": 9,
   "id": "virgin-procedure",
   "metadata": {},
   "outputs": [
    {
     "data": {
      "text/html": [
       "<div>\n",
       "<style scoped>\n",
       "    .dataframe tbody tr th:only-of-type {\n",
       "        vertical-align: middle;\n",
       "    }\n",
       "\n",
       "    .dataframe tbody tr th {\n",
       "        vertical-align: top;\n",
       "    }\n",
       "\n",
       "    .dataframe thead th {\n",
       "        text-align: right;\n",
       "    }\n",
       "</style>\n",
       "<table border=\"1\" class=\"dataframe\">\n",
       "  <thead>\n",
       "    <tr style=\"text-align: right;\">\n",
       "      <th></th>\n",
       "      <th>product_id</th>\n",
       "      <th>property_name</th>\n",
       "      <th>property_value</th>\n",
       "    </tr>\n",
       "  </thead>\n",
       "  <tbody>\n",
       "    <tr>\n",
       "      <th>644240</th>\n",
       "      <td>84195</td>\n",
       "      <td>ingredients</td>\n",
       "      <td>NaN</td>\n",
       "    </tr>\n",
       "  </tbody>\n",
       "</table>\n",
       "</div>"
      ],
      "text/plain": [
       "        product_id property_name property_value\n",
       "644240       84195   ingredients            NaN"
      ]
     },
     "execution_count": 9,
     "metadata": {},
     "output_type": "execute_result"
    }
   ],
   "source": [
    "product_properties[product_properties['property_value'].isna()]"
   ]
  },
  {
   "cell_type": "code",
   "execution_count": 10,
   "id": "collectible-massage",
   "metadata": {
    "scrolled": true
   },
   "outputs": [],
   "source": [
    "# состав не может быть пустым\n",
    "product_properties = product_properties.dropna(subset=['property_value'])"
   ]
  },
  {
   "cell_type": "markdown",
   "id": "sunset-seating",
   "metadata": {},
   "source": [
    "# Заказы"
   ]
  },
  {
   "cell_type": "code",
   "execution_count": 11,
   "id": "imposed-enhancement",
   "metadata": {},
   "outputs": [
    {
     "data": {
      "text/plain": [
       "user_id                   0\n",
       "order_id                  0\n",
       "order_created_time        0\n",
       "retailer                  0\n",
       "store_id                  0\n",
       "platform              76536\n",
       "dtype: int64"
      ]
     },
     "execution_count": 11,
     "metadata": {},
     "output_type": "execute_result"
    }
   ],
   "source": [
    "orders[\"platform\"] = orders[\"platform\"].replace(\"undefined\", np.nan)\n",
    "orders.isna().sum(axis=0)"
   ]
  },
  {
   "cell_type": "code",
   "execution_count": 12,
   "id": "angry-brunswick",
   "metadata": {},
   "outputs": [],
   "source": [
    "orders = orders[orders[\"order_id\"].isin(products[\"order_id\"])]"
   ]
  },
  {
   "cell_type": "markdown",
   "id": "static-cedar",
   "metadata": {},
   "source": [
    "# Пользователи"
   ]
  },
  {
   "cell_type": "code",
   "execution_count": 13,
   "id": "divine-round",
   "metadata": {},
   "outputs": [],
   "source": [
    "user_profiles['user_id'] = user_profiles['user_id'].astype('Int32')"
   ]
  },
  {
   "cell_type": "code",
   "execution_count": 14,
   "id": "positive-alexander",
   "metadata": {},
   "outputs": [],
   "source": [
    "user_profiles = user_profiles[user_profiles[\"user_id\"].isin(products[\"user_id\"])]"
   ]
  },
  {
   "cell_type": "markdown",
   "id": "instant-semester",
   "metadata": {},
   "source": [
    "## Приведение даты рождения к одному виду"
   ]
  },
  {
   "cell_type": "code",
   "execution_count": 15,
   "id": "short-above",
   "metadata": {
    "scrolled": true
   },
   "outputs": [],
   "source": [
    "from datetime import datetime\n",
    "\n",
    "def to_date(date):\n",
    "    \n",
    "    if pd.isna(date):  # пропущенные значения\n",
    "        return date\n",
    "    \n",
    "    formats = ['%Y-%m-%d', '%m.%d.%Y', '%d.%m.%Y']\n",
    "    for fmt in formats:\n",
    "        try:\n",
    "            return datetime.strptime(date, fmt).strftime(\"%Y-%m-%d\")  # привести все даты к одному формату\n",
    "        except ValueError:\n",
    "            pass\n",
    "    \n",
    "    print(f\"Couldn't process {date}\")"
   ]
  },
  {
   "cell_type": "code",
   "execution_count": 16,
   "id": "apparent-vampire",
   "metadata": {},
   "outputs": [
    {
     "name": "stdout",
     "output_type": "stream",
     "text": [
      "Couldn't process 16.5\n",
      "Couldn't process 30.4\n",
      "Couldn't process 12.9\n",
      "Couldn't process 6.1\n",
      "Couldn't process 6.9\n",
      "Couldn't process 3.2\n",
      "Couldn't process 7.10\n",
      "Couldn't process 24.5\n",
      "Couldn't process 29.1\n",
      "Couldn't process 1.1\n",
      "Couldn't process 16.11\n",
      "Couldn't process 22.12\n",
      "Couldn't process 15.8\n",
      "Couldn't process 25.2\n",
      "Couldn't process 1.4\n",
      "Couldn't process 1.1\n",
      "Couldn't process 10.6\n",
      "Couldn't process 2.8\n",
      "Couldn't process 16.9\n",
      "Couldn't process 23.8\n",
      "Couldn't process 27.12\n",
      "Couldn't process 30.8\n",
      "Couldn't process 25.5\n",
      "Couldn't process 1.1\n",
      "Couldn't process 16.1\n",
      "Couldn't process 17.2\n",
      "Couldn't process 25.10\n",
      "Couldn't process 17.3\n",
      "Couldn't process 23.10\n",
      "Couldn't process 1.1\n",
      "Couldn't process 10.2\n",
      "Couldn't process 21.11\n",
      "Couldn't process 1.10\n",
      "Couldn't process 29.6\n",
      "Couldn't process 3.5\n",
      "Couldn't process 1.1\n",
      "Couldn't process 24.3\n",
      "Couldn't process 18.8\n",
      "Couldn't process 10.12\n",
      "Couldn't process 13.8\n",
      "Couldn't process 29.6\n",
      "Couldn't process 5.11\n",
      "Couldn't process 6.8\n",
      "Couldn't process 19.11\n",
      "Couldn't process 1.1\n",
      "Couldn't process 14.3\n",
      "Couldn't process 8.3\n",
      "Couldn't process 30.11\n",
      "Couldn't process 1.8\n",
      "Couldn't process 1.1\n",
      "Couldn't process 15.2\n",
      "Couldn't process 14.6\n",
      "Couldn't process 24.1\n",
      "Couldn't process 11.5\n",
      "Couldn't process 23.1\n",
      "Couldn't process 20.6\n",
      "Couldn't process 29.10\n",
      "Couldn't process 16.4\n",
      "Couldn't process 7.9\n",
      "Couldn't process 27.9\n",
      "Couldn't process 10.8\n",
      "Couldn't process 27.5\n",
      "Couldn't process 23.8\n",
      "Couldn't process 12.10\n",
      "Couldn't process 14.3\n",
      "Couldn't process 18.9\n",
      "Couldn't process 30.12\n",
      "Couldn't process 2.2\n",
      "Couldn't process 25.5\n",
      "Couldn't process 14.8\n",
      "Couldn't process 20.10\n",
      "Couldn't process 1.11\n",
      "Couldn't process 23.6\n",
      "Couldn't process 7.8\n",
      "Couldn't process 3.5\n",
      "Couldn't process 3.10\n",
      "Couldn't process 25.7\n",
      "Couldn't process 13.1\n",
      "Couldn't process 3.12\n",
      "Couldn't process 13.6\n",
      "Couldn't process 25.7\n",
      "Couldn't process 14.5\n",
      "Couldn't process 18.1\n",
      "Couldn't process 12.6\n",
      "Couldn't process 10.9\n",
      "Couldn't process 5.6\n",
      "Couldn't process 19.1\n"
     ]
    }
   ],
   "source": [
    "user_profiles[\"bdate\"] = user_profiles[\"bdate\"].apply(to_date)"
   ]
  },
  {
   "cell_type": "code",
   "execution_count": 17,
   "id": "future-northwest",
   "metadata": {},
   "outputs": [
    {
     "data": {
      "text/plain": [
       "0                NaN\n",
       "1         1987-10-11\n",
       "2                NaN\n",
       "3                NaN\n",
       "4                NaN\n",
       "             ...    \n",
       "438784    1989-02-21\n",
       "438799    1987-08-07\n",
       "438829    1980-02-21\n",
       "438859    1997-12-01\n",
       "438866    1981-07-22\n",
       "Name: bdate, Length: 92182, dtype: object"
      ]
     },
     "execution_count": 17,
     "metadata": {},
     "output_type": "execute_result"
    }
   ],
   "source": [
    "user_profiles[\"bdate\"]"
   ]
  },
  {
   "cell_type": "markdown",
   "id": "digital-individual",
   "metadata": {},
   "source": [
    "# Города"
   ]
  },
  {
   "cell_type": "code",
   "execution_count": 18,
   "id": "temporal-pursuit",
   "metadata": {},
   "outputs": [],
   "source": [
    "city['store_id'] = city['store_id'].astype('Int32')"
   ]
  },
  {
   "cell_type": "markdown",
   "id": "french-procedure",
   "metadata": {},
   "source": [
    "## Удаление пробелов в названиях\n",
    "\n",
    "думаю, это не надо делать, так как это часть задачи участника по работе с текстом (очистка текстов - важная часть NLP пайплайна) - комментарий Дани Гафни"
   ]
  },
  {
   "cell_type": "code",
   "execution_count": 19,
   "id": "vietnamese-cheat",
   "metadata": {},
   "outputs": [],
   "source": [
    "# def ohne_probel(text):\n",
    "#     try:\n",
    "#         words = text.split()\n",
    "#         words = ' '.join(words)\n",
    "#         return words\n",
    "#     except AttributeError:\n",
    "#         return text"
   ]
  },
  {
   "cell_type": "code",
   "execution_count": 20,
   "id": "moved-palmer",
   "metadata": {},
   "outputs": [],
   "source": [
    "# products['brand_name']=products['brand_name'].apply(ohne_probel)\n",
    "# products['product_name']=products['product_name'].apply(ohne_probel)\n",
    "# product_properties['property_name']=product_properties['property_name'].apply(ohne_probel)\n",
    "# product_properties['property_value']=product_properties['property_value'].apply(ohne_probel)\n",
    "# orders['retailer'] = orders['retailer'].apply(ohne_probel)"
   ]
  },
  {
   "cell_type": "markdown",
   "id": "leading-cookie",
   "metadata": {},
   "source": [
    "# Очистка пользователей B2B"
   ]
  },
  {
   "cell_type": "code",
   "execution_count": 21,
   "id": "artistic-return",
   "metadata": {},
   "outputs": [],
   "source": [
    "# введем столбец (количество) * (цена) = (полная стоимость товара)\n",
    "products.insert(5, \"Sumprice\", (products['quantity'] * products['price']).rename(\"sumprice\").astype(\"float32\"), True)"
   ]
  },
  {
   "cell_type": "markdown",
   "id": "suburban-novel",
   "metadata": {},
   "source": [
    "## Найдем общую стоимость каждого заказа"
   ]
  },
  {
   "cell_type": "code",
   "execution_count": 22,
   "id": "nuclear-vegetation",
   "metadata": {
    "scrolled": false
   },
   "outputs": [],
   "source": [
    "sum_order = products.groupby([\"order_id\"])[\"Sumprice\"].sum()"
   ]
  },
  {
   "cell_type": "code",
   "execution_count": 23,
   "id": "opponent-stress",
   "metadata": {},
   "outputs": [
    {
     "data": {
      "text/plain": [
       "<AxesSubplot:>"
      ]
     },
     "execution_count": 23,
     "metadata": {},
     "output_type": "execute_result"
    },
    {
     "data": {
      "image/png": "[encoded data removed]",
      "text/plain": [
       "<Figure size 432x288 with 1 Axes>"
      ]
     },
     "metadata": {
      "needs_background": "light"
     },
     "output_type": "display_data"
    }
   ],
   "source": [
    "sum_order[(100000>sum_order)&(10000<sum_order)].hist(bins=100)"
   ]
  },
  {
   "cell_type": "markdown",
   "id": "moral-inspector",
   "metadata": {},
   "source": [
    "Видно, что это почти непрерывная экспонента, правильнее всего оборвать тогда, когда заканчивается непрерывность."
   ]
  },
  {
   "cell_type": "code",
   "execution_count": 24,
   "id": "native-sierra",
   "metadata": {
    "scrolled": true
   },
   "outputs": [
    {
     "data": {
      "text/plain": [
       "<AxesSubplot:>"
      ]
     },
     "execution_count": 24,
     "metadata": {},
     "output_type": "execute_result"
    },
    {
     "data": {
      "image/png": "[encoded data removed]",
      "text/plain": [
       "<Figure size 432x288 with 1 Axes>"
      ]
     },
     "metadata": {
      "needs_background": "light"
     },
     "output_type": "display_data"
    }
   ],
   "source": [
    "sum_order[(200000>sum_order)&(50000<sum_order) ].hist(bins =100)"
   ]
  },
  {
   "cell_type": "markdown",
   "id": "exciting-shuttle",
   "metadata": {},
   "source": [
    "Возьму ограничение в 80к на общую стоимость заказа"
   ]
  },
  {
   "cell_type": "code",
   "execution_count": 25,
   "id": "generous-partition",
   "metadata": {},
   "outputs": [],
   "source": [
    "products = products[~products[\"order_id\"].isin(sum_order[(80000<sum_order)].index.get_level_values('order_id'))]"
   ]
  },
  {
   "cell_type": "code",
   "execution_count": 26,
   "id": "occupied-crystal",
   "metadata": {},
   "outputs": [
    {
     "data": {
      "text/plain": [
       "40"
      ]
     },
     "execution_count": 26,
     "metadata": {},
     "output_type": "execute_result"
    }
   ],
   "source": [
    "del sum_order\n",
    "\n",
    "gc.collect()"
   ]
  },
  {
   "cell_type": "markdown",
   "id": "bound-dispute",
   "metadata": {},
   "source": [
    "# Фильтры\n",
    "Но все равно некоторые товары очевидно куплены не для личного пользования - 100 пачек кофе, например\n",
    "\n",
    "Посмотрев на график зависимости количества одинаковых товаров от их суммарной стоимости, я пришел к выводу использования 4 фильтров:\n",
    "\n",
    "1) 1 или 2 товара могут быть любой стоимости\n",
    "\n",
    "2) Суммарная стоимость любого количества товаров не больше 1000\n",
    "\n",
    "3) почти все продукты находятся под прямой (количество)/40 + (суммарная цена)/10000 = 1\n",
    "\n",
    "4) питьевые жидкости и кормы для животных под прямой (количество)/80 + (суммарная цена)/15000) = 1"
   ]
  },
  {
   "cell_type": "code",
   "execution_count": 27,
   "id": "featured-colorado",
   "metadata": {},
   "outputs": [
    {
     "data": {
      "text/plain": [
       "<matplotlib.collections.PathCollection at 0x7f0531b9e130>"
      ]
     },
     "execution_count": 27,
     "metadata": {},
     "output_type": "execute_result"
    },
    {
     "data": {
      "image/png": "[encoded data removed]",
      "text/plain": [
       "<Figure size 432x288 with 1 Axes>"
      ]
     },
     "metadata": {
      "needs_background": "light"
     },
     "output_type": "display_data"
    }
   ],
   "source": [
    "#на графике не указаны точки с количеством больше 150, для наглядности\n",
    "# до применения фильтров:\n",
    "plt.scatter(products[(products['quantity']<150)]['Sumprice'], products[(products['quantity']<150)]['quantity'])"
   ]
  },
  {
   "cell_type": "code",
   "execution_count": 28,
   "id": "nasty-uzbekistan",
   "metadata": {},
   "outputs": [],
   "source": [
    "# после применения фильтров:\n",
    "# plt.scatter(products[(products['quantity'] <= 2) | ((products['Sumprice']<140) | (products['quantity']/30 + products['Sumprice']/7500 <1) | (((products['parent_category_id']==345)|(products['parent_category_id']==74))&((products['quantity']/50+products['Sumprice']/10000)<1)))]['Sumprice'], products[(products['quantity'] <= 2) | ((products['Sumprice']<140) | (products['quantity']/30 + products['Sumprice']/7500 <1) | (((products['parent_category_id']==345)|(products['parent_category_id']==74))&((products['quantity']/50+products['Sumprice']/10000)<1)))]['quantity'])\n",
    "#на графике не указаны точки с количеством больше 45, для наглядности"
   ]
  },
  {
   "cell_type": "code",
   "execution_count": 29,
   "id": "departmental-elimination",
   "metadata": {
    "scrolled": true
   },
   "outputs": [],
   "source": [
    "products = products[(~products[\"user_id\"].isin(products[(products['quantity'] > 2) & (products['Sumprice']>1000) & ((products['quantity']/40 + products['Sumprice']/10000 > 1) | (((products['parent_category_id']==345)|(products['parent_category_id']==74))&((products['quantity']/80+products['Sumprice']/15000)>1)))]['user_id'].values))&(products['quantity']<80)&(products['Sumprice']<20000)]"
   ]
  },
  {
   "cell_type": "code",
   "execution_count": 30,
   "id": "casual-center",
   "metadata": {},
   "outputs": [
    {
     "data": {
      "text/plain": [
       "<matplotlib.collections.PathCollection at 0x7f0531b81880>"
      ]
     },
     "execution_count": 30,
     "metadata": {},
     "output_type": "execute_result"
    },
    {
     "data": {
      "image/png": "[encoded data removed]",
      "text/plain": [
       "<Figure size 432x288 with 1 Axes>"
      ]
     },
     "metadata": {
      "needs_background": "light"
     },
     "output_type": "display_data"
    }
   ],
   "source": [
    "# так выглядят очищенные данные\n",
    "plt.scatter(products['Sumprice'], products['quantity'])"
   ]
  },
  {
   "cell_type": "markdown",
   "id": "adjustable-highland",
   "metadata": {},
   "source": [
    "## Найдем потраченные деньги пользователеми с больше 5 заказов и разделим на интервал покупок"
   ]
  },
  {
   "cell_type": "code",
   "execution_count": 31,
   "id": "critical-trading",
   "metadata": {},
   "outputs": [],
   "source": [
    "products = products.merge(orders[[\"order_id\", \"order_created_time\"]], on=\"order_id\", how=\"inner\")"
   ]
  },
  {
   "cell_type": "code",
   "execution_count": 32,
   "id": "future-fashion",
   "metadata": {},
   "outputs": [],
   "source": [
    "products[\"order_created_time\"] = pd.to_datetime(products[\"order_created_time\"])"
   ]
  },
  {
   "cell_type": "code",
   "execution_count": 33,
   "id": "heard-cholesterol",
   "metadata": {},
   "outputs": [],
   "source": [
    "user_products = products.groupby(\"user_id\")"
   ]
  },
  {
   "cell_type": "code",
   "execution_count": 34,
   "id": "verbal-label",
   "metadata": {},
   "outputs": [],
   "source": [
    "user_order_count = user_products[\"order_id\"].count().rename(\"order_count\").reset_index()"
   ]
  },
  {
   "cell_type": "code",
   "execution_count": 35,
   "id": "conceptual-governor",
   "metadata": {},
   "outputs": [],
   "source": [
    "users_with_more_than_5_orders = user_order_count[user_order_count[\"order_count\"] > 5][\"user_id\"]"
   ]
  },
  {
   "cell_type": "code",
   "execution_count": 36,
   "id": "sought-ballet",
   "metadata": {},
   "outputs": [
    {
     "data": {
      "text/plain": [
       "0              83\n",
       "3             224\n",
       "4             260\n",
       "5             353\n",
       "6             400\n",
       "           ...   \n",
       "622524    3142899\n",
       "622526    3142924\n",
       "622527    3142936\n",
       "622528    3142965\n",
       "622529    3142966\n",
       "Name: user_id, Length: 584425, dtype: int64"
      ]
     },
     "execution_count": 36,
     "metadata": {},
     "output_type": "execute_result"
    }
   ],
   "source": [
    "users_with_more_than_5_orders"
   ]
  },
  {
   "cell_type": "markdown",
   "id": "banner-music",
   "metadata": {},
   "source": [
    "Будем дальше работать только с этими пользователями с больше чем 5 заказами"
   ]
  },
  {
   "cell_type": "code",
   "execution_count": 37,
   "id": "under-england",
   "metadata": {},
   "outputs": [],
   "source": [
    "user_products = products[products[\"user_id\"].isin(users_with_more_than_5_orders)].groupby(\"user_id\")"
   ]
  },
  {
   "cell_type": "code",
   "execution_count": 38,
   "id": "adult-marriage",
   "metadata": {},
   "outputs": [],
   "source": [
    "user_weekly_spendings = (user_products[\"price\"].sum() / \\\n",
    "                         ((user_products[\"order_created_time\"].max() - user_products[\"order_created_time\"].min())\\\n",
    "                          .astype(\"int64\") / (1e9 * 60 * 60 * 24 * 7))).reset_index().rename(columns={0: \"weekly_spendings\"})"
   ]
  },
  {
   "cell_type": "markdown",
   "id": "exterior-cancer",
   "metadata": {},
   "source": [
    "Затраты на покупки в неделю"
   ]
  },
  {
   "cell_type": "code",
   "execution_count": 39,
   "id": "ordered-concentrate",
   "metadata": {
    "scrolled": true
   },
   "outputs": [
    {
     "data": {
      "text/plain": [
       "<AxesSubplot:>"
      ]
     },
     "execution_count": 39,
     "metadata": {},
     "output_type": "execute_result"
    },
    {
     "data": {
      "image/png": "[encoded data removed]",
      "text/plain": [
       "<Figure size 432x288 with 1 Axes>"
      ]
     },
     "metadata": {
      "needs_background": "light"
     },
     "output_type": "display_data"
    }
   ],
   "source": [
    "user_weekly_spendings[(user_weekly_spendings[\"weekly_spendings\"] != np.inf) & \n",
    "                      (user_weekly_spendings[\"weekly_spendings\"] < 30000)][\"weekly_spendings\"].hist(bins=100)"
   ]
  },
  {
   "cell_type": "markdown",
   "id": "awful-conditioning",
   "metadata": {},
   "source": [
    "### Магазины, где совершают заказы пользователи, которые тратят больше 10000 в неделю"
   ]
  },
  {
   "cell_type": "code",
   "execution_count": 40,
   "id": "fewer-egypt",
   "metadata": {},
   "outputs": [
    {
     "data": {
      "text/plain": [
       "METRO              88558\n",
       "Лента              44712\n",
       "Ашан               30508\n",
       "МЕГАМАРТ             678\n",
       "ВкусВилл             480\n",
       "BILLA                169\n",
       "Командор             109\n",
       "REAL                 109\n",
       "ВИКТОРИЯ              99\n",
       "SELGROS               68\n",
       "Аллея                 63\n",
       "Бахетле               51\n",
       "Азбука Вкуса          50\n",
       "Хороший               32\n",
       "ЗЕЛЕНОЕ ЯБЛОКО        30\n",
       "МАГНОЛИЯ              18\n",
       "Быстроном              9\n",
       "ТД ХОРОШИЙ             6\n",
       "УДАЧНАЯ ПОКУПКА        4\n",
       "КАРАВАН                4\n",
       "Столичный              4\n",
       "ПАРУС                  3\n",
       "Фреш25                 3\n",
       "ВЕГА                   2\n",
       "СЕДЬМАЯ СТОЛИЦА        2\n",
       "КИТ                    2\n",
       "ИДЕЯ                   2\n",
       "АУТЛЕТ                 2\n",
       "ЮгОпт                  1\n",
       "Осень                  1\n",
       "БЕГЕМАГ                1\n",
       "Name: retailer, dtype: int64"
      ]
     },
     "execution_count": 40,
     "metadata": {},
     "output_type": "execute_result"
    }
   ],
   "source": [
    "orders[orders[\"user_id\"].isin(user_weekly_spendings[(user_weekly_spendings[\"weekly_spendings\"] > 10000) & (user_weekly_spendings[\"weekly_spendings\"] != np.inf)][\"user_id\"])][\"retailer\"].value_counts()"
   ]
  },
  {
   "cell_type": "markdown",
   "id": "characteristic-vinyl",
   "metadata": {},
   "source": [
    "В основном это METRO - наверняка это закупаются рестораны/бизнесы. Отметим их как b2b."
   ]
  },
  {
   "cell_type": "code",
   "execution_count": 41,
   "id": "moderate-listening",
   "metadata": {},
   "outputs": [],
   "source": [
    "b2b_clients = user_weekly_spendings[(user_weekly_spendings[\"weekly_spendings\"] > 10000) & (user_weekly_spendings[\"weekly_spendings\"] != np.inf)][\"user_id\"]"
   ]
  },
  {
   "cell_type": "code",
   "execution_count": 42,
   "id": "educated-architect",
   "metadata": {},
   "outputs": [],
   "source": [
    "products = products[~products[\"user_id\"].isin(b2b_clients)]"
   ]
  },
  {
   "cell_type": "code",
   "execution_count": 43,
   "id": "selected-oriental",
   "metadata": {},
   "outputs": [],
   "source": [
    "orders = orders[~orders[\"user_id\"].isin(b2b_clients)]"
   ]
  },
  {
   "cell_type": "code",
   "execution_count": 44,
   "id": "talented-promise",
   "metadata": {},
   "outputs": [
    {
     "data": {
      "text/plain": [
       "0.8468517196676745"
      ]
     },
     "execution_count": 44,
     "metadata": {},
     "output_type": "execute_result"
    }
   ],
   "source": [
    "len(products) / 59596980 # длина таблицы покупок уменьшилась на 15% по сравнению с оригинальной"
   ]
  },
  {
   "cell_type": "code",
   "execution_count": 45,
   "id": "devoted-springer",
   "metadata": {},
   "outputs": [],
   "source": [
    "products = products.drop(['Sumprice'], axis=1)"
   ]
  },
  {
   "cell_type": "markdown",
   "id": "substantial-element",
   "metadata": {},
   "source": [
    "# Объединение всех таблиц"
   ]
  },
  {
   "cell_type": "code",
   "execution_count": 46,
   "id": "large-acrylic",
   "metadata": {},
   "outputs": [],
   "source": [
    "products = products.merge(orders.drop(columns=[\"user_id\", \"order_created_time\"]), on ='order_id', how=\"inner\")"
   ]
  },
  {
   "cell_type": "code",
   "execution_count": 47,
   "id": "restricted-allergy",
   "metadata": {},
   "outputs": [
    {
     "data": {
      "text/plain": [
       "160"
      ]
     },
     "execution_count": 47,
     "metadata": {},
     "output_type": "execute_result"
    }
   ],
   "source": [
    "del orders\n",
    "\n",
    "gc.collect()"
   ]
  },
  {
   "cell_type": "code",
   "execution_count": 48,
   "id": "answering-honor",
   "metadata": {},
   "outputs": [
    {
     "data": {
      "text/plain": [
       "0.8874810267231662"
      ]
     },
     "execution_count": 48,
     "metadata": {},
     "output_type": "execute_result"
    }
   ],
   "source": [
    "len(products) / 59596980"
   ]
  },
  {
   "cell_type": "code",
   "execution_count": 49,
   "id": "rising-question",
   "metadata": {},
   "outputs": [],
   "source": [
    "products = products.merge(user_profiles, on='user_id', how=\"left\")  # очень мало инфы о юзерах, поэтому left "
   ]
  },
  {
   "cell_type": "code",
   "execution_count": 50,
   "id": "amazing-cambridge",
   "metadata": {},
   "outputs": [
    {
     "data": {
      "text/plain": [
       "60"
      ]
     },
     "execution_count": 50,
     "metadata": {},
     "output_type": "execute_result"
    }
   ],
   "source": [
    "del user_profiles\n",
    "\n",
    "gc.collect()"
   ]
  },
  {
   "cell_type": "code",
   "execution_count": 51,
   "id": "ecological-scale",
   "metadata": {},
   "outputs": [
    {
     "data": {
      "text/plain": [
       "0.8895163815347691"
      ]
     },
     "execution_count": 51,
     "metadata": {},
     "output_type": "execute_result"
    }
   ],
   "source": [
    "len(products) / 59596980"
   ]
  },
  {
   "cell_type": "code",
   "execution_count": 52,
   "id": "modern-politics",
   "metadata": {},
   "outputs": [],
   "source": [
    "products = products.merge(city, on='store_id', how=\"inner\")"
   ]
  },
  {
   "cell_type": "code",
   "execution_count": 53,
   "id": "offensive-person",
   "metadata": {},
   "outputs": [
    {
     "data": {
      "text/plain": [
       "60"
      ]
     },
     "execution_count": 53,
     "metadata": {},
     "output_type": "execute_result"
    }
   ],
   "source": [
    "del city\n",
    "\n",
    "gc.collect()"
   ]
  },
  {
   "cell_type": "code",
   "execution_count": 54,
   "id": "fitted-treatment",
   "metadata": {},
   "outputs": [
    {
     "data": {
      "text/plain": [
       "0.8895163815347691"
      ]
     },
     "execution_count": 54,
     "metadata": {},
     "output_type": "execute_result"
    }
   ],
   "source": [
    "len(products) / 59596980 "
   ]
  },
  {
   "cell_type": "code",
   "execution_count": 55,
   "id": "conceptual-female",
   "metadata": {},
   "outputs": [],
   "source": [
    "products = products.drop_duplicates([\"user_id\", \"order_id\", \"store_id\", \"product_id\", \"quantity\"])"
   ]
  },
  {
   "cell_type": "code",
   "execution_count": 56,
   "id": "hazardous-opinion",
   "metadata": {},
   "outputs": [
    {
     "data": {
      "text/plain": [
       "0.8333409511690022"
      ]
     },
     "execution_count": 56,
     "metadata": {},
     "output_type": "execute_result"
    }
   ],
   "source": [
    "len(products) / 59596980"
   ]
  },
  {
   "cell_type": "markdown",
   "id": "proved-letter",
   "metadata": {},
   "source": [
    "# Запись результата на диск"
   ]
  },
  {
   "cell_type": "code",
   "execution_count": 57,
   "id": "dental-button",
   "metadata": {},
   "outputs": [],
   "source": [
    "os.makedirs(OUTPUT_DATA_DIR, exist_ok=True)"
   ]
  },
  {
   "cell_type": "code",
   "execution_count": 58,
   "id": "cardiac-render",
   "metadata": {},
   "outputs": [],
   "source": [
    "products.to_csv(os.path.join(OUTPUT_DATA_DIR, \"products.csv\"), index=False)"
   ]
  },
  {
   "cell_type": "code",
   "execution_count": 59,
   "id": "fuzzy-harassment",
   "metadata": {},
   "outputs": [],
   "source": [
    "product_properties.to_csv(os.path.join(OUTPUT_DATA_DIR, \"product_properties.csv\"), index=False)"
   ]
  },
  {
   "cell_type": "code",
   "execution_count": 60,
   "id": "expressed-creator",
   "metadata": {},
   "outputs": [],
   "source": [
    "categories.to_csv(os.path.join(OUTPUT_DATA_DIR, \"categories.csv\"), index=False)"
   ]
  },
  {
   "cell_type": "markdown",
   "id": "anonymous-bangkok",
   "metadata": {},
   "source": [
    "# Отсев из тестовых данных пользователей без исторических данных"
   ]
  },
  {
   "cell_type": "code",
   "execution_count": 61,
   "id": "sustained-arthritis",
   "metadata": {},
   "outputs": [],
   "source": [
    "sample_submission = pd.read_csv(os.path.join(RAW_DATA_DIR, \"sample_submission.csv\"))"
   ]
  },
  {
   "cell_type": "code",
   "execution_count": 62,
   "id": "killing-chamber",
   "metadata": {},
   "outputs": [
    {
     "data": {
      "text/plain": [
       "447678"
      ]
     },
     "execution_count": 62,
     "metadata": {},
     "output_type": "execute_result"
    }
   ],
   "source": [
    "len(sample_submission)"
   ]
  },
  {
   "cell_type": "code",
   "execution_count": 63,
   "id": "comic-formula",
   "metadata": {},
   "outputs": [
    {
     "data": {
      "text/html": [
       "<div>\n",
       "<style scoped>\n",
       "    .dataframe tbody tr th:only-of-type {\n",
       "        vertical-align: middle;\n",
       "    }\n",
       "\n",
       "    .dataframe tbody tr th {\n",
       "        vertical-align: top;\n",
       "    }\n",
       "\n",
       "    .dataframe thead th {\n",
       "        text-align: right;\n",
       "    }\n",
       "</style>\n",
       "<table border=\"1\" class=\"dataframe\">\n",
       "  <thead>\n",
       "    <tr style=\"text-align: right;\">\n",
       "      <th></th>\n",
       "      <th>user_id</th>\n",
       "      <th>store_id</th>\n",
       "      <th>order_id</th>\n",
       "    </tr>\n",
       "  </thead>\n",
       "  <tbody>\n",
       "    <tr>\n",
       "      <th>0</th>\n",
       "      <td>31</td>\n",
       "      <td>12</td>\n",
       "      <td>17522989</td>\n",
       "    </tr>\n",
       "    <tr>\n",
       "      <th>1</th>\n",
       "      <td>31</td>\n",
       "      <td>325</td>\n",
       "      <td>18801356</td>\n",
       "    </tr>\n",
       "    <tr>\n",
       "      <th>2</th>\n",
       "      <td>31</td>\n",
       "      <td>445</td>\n",
       "      <td>17867982</td>\n",
       "    </tr>\n",
       "    <tr>\n",
       "      <th>3</th>\n",
       "      <td>31</td>\n",
       "      <td>764</td>\n",
       "      <td>18801356</td>\n",
       "    </tr>\n",
       "    <tr>\n",
       "      <th>4</th>\n",
       "      <td>45</td>\n",
       "      <td>21</td>\n",
       "      <td>18342836</td>\n",
       "    </tr>\n",
       "    <tr>\n",
       "      <th>...</th>\n",
       "      <td>...</td>\n",
       "      <td>...</td>\n",
       "      <td>...</td>\n",
       "    </tr>\n",
       "    <tr>\n",
       "      <th>447673</th>\n",
       "      <td>3925275</td>\n",
       "      <td>654</td>\n",
       "      <td>20117683</td>\n",
       "    </tr>\n",
       "    <tr>\n",
       "      <th>447674</th>\n",
       "      <td>3925298</td>\n",
       "      <td>132</td>\n",
       "      <td>20117252</td>\n",
       "    </tr>\n",
       "    <tr>\n",
       "      <th>447675</th>\n",
       "      <td>3925303</td>\n",
       "      <td>435</td>\n",
       "      <td>20117806</td>\n",
       "    </tr>\n",
       "    <tr>\n",
       "      <th>447676</th>\n",
       "      <td>3925307</td>\n",
       "      <td>726</td>\n",
       "      <td>20117794</td>\n",
       "    </tr>\n",
       "    <tr>\n",
       "      <th>447677</th>\n",
       "      <td>3925313</td>\n",
       "      <td>447</td>\n",
       "      <td>17670734</td>\n",
       "    </tr>\n",
       "  </tbody>\n",
       "</table>\n",
       "<p>447678 rows × 3 columns</p>\n",
       "</div>"
      ],
      "text/plain": [
       "        user_id  store_id  order_id\n",
       "0            31        12  17522989\n",
       "1            31       325  18801356\n",
       "2            31       445  17867982\n",
       "3            31       764  18801356\n",
       "4            45        21  18342836\n",
       "...         ...       ...       ...\n",
       "447673  3925275       654  20117683\n",
       "447674  3925298       132  20117252\n",
       "447675  3925303       435  20117806\n",
       "447676  3925307       726  20117794\n",
       "447677  3925313       447  17670734\n",
       "\n",
       "[447678 rows x 3 columns]"
      ]
     },
     "execution_count": 63,
     "metadata": {},
     "output_type": "execute_result"
    }
   ],
   "source": [
    "sample_submission"
   ]
  },
  {
   "cell_type": "code",
   "execution_count": 64,
   "id": "included-investor",
   "metadata": {},
   "outputs": [],
   "source": [
    "sample_submission = sample_submission[sample_submission[\"user_id\"].isin(products[\"user_id\"])]"
   ]
  },
  {
   "cell_type": "code",
   "execution_count": 65,
   "id": "everyday-shuttle",
   "metadata": {},
   "outputs": [
    {
     "data": {
      "text/plain": [
       "50976"
      ]
     },
     "execution_count": 65,
     "metadata": {},
     "output_type": "execute_result"
    }
   ],
   "source": [
    "len(sample_submission)"
   ]
  },
  {
   "cell_type": "code",
   "execution_count": 66,
   "id": "innovative-olive",
   "metadata": {},
   "outputs": [],
   "source": [
    "sample_submission.to_csv(os.path.join(OUTPUT_DATA_DIR, \"sample_submission.csv\"), index=False)"
   ]
  },
  {
   "cell_type": "code",
   "execution_count": null,
   "id": "saved-resistance",
   "metadata": {},
   "outputs": [],
   "source": []
  }
 ],
 "metadata": {
  "kernelspec": {
   "display_name": "Python 3",
   "language": "python",
   "name": "python3"
  },
  "language_info": {
   "codemirror_mode": {
    "name": "ipython",
    "version": 3
   },
   "file_extension": ".py",
   "mimetype": "text/x-python",
   "name": "python",
   "nbconvert_exporter": "python",
   "pygments_lexer": "ipython3",
   "version": "3.8.5"
  }
 },
 "nbformat": 4,
 "nbformat_minor": 5
}
