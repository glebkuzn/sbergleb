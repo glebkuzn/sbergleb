{
 "cells": [
  {
   "cell_type": "markdown",
   "id": "coordinate-federal",
   "metadata": {},
   "source": [
    "# Введение библиотек, обозначение пути, загрузка данных"
   ]
  },
  {
   "cell_type": "code",
   "execution_count": 1,
   "id": "intense-colombia",
   "metadata": {},
   "outputs": [],
   "source": [
    "import os\n",
    "RAW_DATA_DIR = 'C:/Users/Admin/Desktop/sber'\n",
    "PRO_DATA_DIR = 'products'\n",
    "PRODUCTS_DIR = os.path.join(RAW_DATA_DIR, PRO_DATA_DIR)"
   ]
  },
  {
   "cell_type": "code",
   "execution_count": 2,
   "id": "antique-siemens",
   "metadata": {},
   "outputs": [],
   "source": [
    "import numpy as np\n",
    "import pandas as pd\n",
    "import datetime as dt\n",
    "from matplotlib import pyplot as plt\n",
    "pd.options.display.max_rows = 999\n",
    "pd.options.display.max_columns = 1000\n",
    "pd.set_option(\"expand_frame_repr\", True)\n",
    "\n",
    "orders = pd.read_csv(os.path.join(RAW_DATA_DIR, \"kaggle_tab_1345\", \"tab_1_orders.csv\"))\n",
    "# объединение продуктов\n",
    "products0 = pd.read_csv(os.path.join(PRODUCTS_DIR, \"sbermarket_tab_2_4\\\\tab_2_products_2020-06-19.csv\"))   \n",
    "numeric_columns = {col: \"Int32\" if products0[col].dtype == \"int64\" else \"float32\" if products0[col].dtype == \"float64\" else products0[col].dtype for col in products0.columns}\n",
    "\n",
    "products = pd.DataFrame()\n",
    "\n",
    "for directory in os.listdir(PRODUCTS_DIR):\n",
    "    for path in os.listdir(os.path.join(PRODUCTS_DIR, directory)):\n",
    "        products = pd.concat([products, (pd.read_csv(os.path.join(PRODUCTS_DIR, directory, path))).astype(numeric_columns)])\n",
    "products = products.astype(numeric_columns)\n",
    "\n",
    "product_properties = pd.read_csv(os.path.join(RAW_DATA_DIR, \"kaggle_tab_1345\", \"tab_5_product_properties.csv\"))\n",
    "categories = pd.read_csv(os.path.join(RAW_DATA_DIR, \"kaggle_tab_1345\", \"tab_3_categories.csv\"))\n",
    "city = pd.read_csv(os.path.join(RAW_DATA_DIR, \"kaggle_tab_1345\", \"tab_6_city.csv\"))"
   ]
  },
  {
   "cell_type": "markdown",
   "id": "engaged-beatles",
   "metadata": {},
   "source": [
    "# Удаление простого мусора и проверка"
   ]
  },
  {
   "cell_type": "markdown",
   "id": "square-consultation",
   "metadata": {},
   "source": [
    "## Продукты"
   ]
  },
  {
   "cell_type": "code",
   "execution_count": 3,
   "id": "challenging-healing",
   "metadata": {
    "scrolled": false
   },
   "outputs": [
    {
     "data": {
      "text/plain": [
       "[user_id                     0\n",
       " order_id                    0\n",
       " line_item_id                0\n",
       " price                       0\n",
       " quantity                    0\n",
       " discount                    0\n",
       " product_name                0\n",
       " product_id                  0\n",
       " brand_name            7693091\n",
       " master_category_id      10797\n",
       " parent_category_id          0\n",
       " dtype: int64,\n",
       " 0,\n",
       " 0,\n",
       " 0]"
      ]
     },
     "execution_count": 3,
     "metadata": {},
     "output_type": "execute_result"
    }
   ],
   "source": [
    "products[\"brand_name\"] = products[\"brand_name\"].replace([\"Без бренда\",'-','No brand'], np.nan)\n",
    "products = products.dropna(subset=['price', 'discount', 'quantity', 'product_name'])\n",
    "products = products[products['price']>0]\n",
    "products = products[products['quantity']>0]\n",
    "products = products[products['discount']>=0]\n",
    "# проверка\n",
    "[products.isna().sum(),\n",
    "len(products[products[\"price\"] <= 0]),\n",
    "len(products[products[\"quantity\"] <= 0]),\n",
    "len(products[products[\"discount\"] < 0])]"
   ]
  },
  {
   "cell_type": "markdown",
   "id": "stone-immunology",
   "metadata": {},
   "source": [
    "## Свойства продуктов"
   ]
  },
  {
   "cell_type": "code",
   "execution_count": 4,
   "id": "gross-education",
   "metadata": {
    "scrolled": true
   },
   "outputs": [
    {
     "data": {
      "text/plain": [
       "product_id        0\n",
       "property_name     0\n",
       "property_value    1\n",
       "dtype: int64"
      ]
     },
     "execution_count": 4,
     "metadata": {},
     "output_type": "execute_result"
    }
   ],
   "source": [
    "product_properties.isna().sum(axis=0)"
   ]
  },
  {
   "cell_type": "code",
   "execution_count": 5,
   "id": "virgin-procedure",
   "metadata": {},
   "outputs": [
    {
     "data": {
      "text/html": [
       "<div>\n",
       "<style scoped>\n",
       "    .dataframe tbody tr th:only-of-type {\n",
       "        vertical-align: middle;\n",
       "    }\n",
       "\n",
       "    .dataframe tbody tr th {\n",
       "        vertical-align: top;\n",
       "    }\n",
       "\n",
       "    .dataframe thead th {\n",
       "        text-align: right;\n",
       "    }\n",
       "</style>\n",
       "<table border=\"1\" class=\"dataframe\">\n",
       "  <thead>\n",
       "    <tr style=\"text-align: right;\">\n",
       "      <th></th>\n",
       "      <th>product_id</th>\n",
       "      <th>property_name</th>\n",
       "      <th>property_value</th>\n",
       "    </tr>\n",
       "  </thead>\n",
       "  <tbody>\n",
       "    <tr>\n",
       "      <th>644240</th>\n",
       "      <td>84195</td>\n",
       "      <td>ingredients</td>\n",
       "      <td>NaN</td>\n",
       "    </tr>\n",
       "  </tbody>\n",
       "</table>\n",
       "</div>"
      ],
      "text/plain": [
       "        product_id property_name property_value\n",
       "644240       84195   ingredients            NaN"
      ]
     },
     "execution_count": 5,
     "metadata": {},
     "output_type": "execute_result"
    }
   ],
   "source": [
    "product_properties[product_properties['property_value'].isna()]"
   ]
  },
  {
   "cell_type": "code",
   "execution_count": 6,
   "id": "collectible-massage",
   "metadata": {
    "scrolled": true
   },
   "outputs": [],
   "source": [
    "# состав не может быть пустым\n",
    "product_properties = product_properties.dropna(subset=['property_value'])"
   ]
  },
  {
   "cell_type": "markdown",
   "id": "sunset-seating",
   "metadata": {},
   "source": [
    "# Заказы"
   ]
  },
  {
   "cell_type": "code",
   "execution_count": 7,
   "id": "imposed-enhancement",
   "metadata": {},
   "outputs": [
    {
     "data": {
      "text/plain": [
       "user_id                   0\n",
       "order_id                  0\n",
       "order_created_time        0\n",
       "retailer                  0\n",
       "store_id                  0\n",
       "platform              76536\n",
       "dtype: int64"
      ]
     },
     "execution_count": 7,
     "metadata": {},
     "output_type": "execute_result"
    }
   ],
   "source": [
    "orders[\"platform\"] = orders[\"platform\"].replace(\"undefined\", np.nan)\n",
    "orders.isna().sum(axis=0)"
   ]
  },
  {
   "cell_type": "markdown",
   "id": "french-procedure",
   "metadata": {},
   "source": [
    "## Удаление пробелов в названиях"
   ]
  },
  {
   "cell_type": "code",
   "execution_count": 8,
   "id": "vietnamese-cheat",
   "metadata": {},
   "outputs": [],
   "source": [
    "def ohne_probel(text):\n",
    "    try:\n",
    "        words = text.split()\n",
    "        words = ' '.join(words)\n",
    "        return words\n",
    "    except AttributeError:\n",
    "        return text"
   ]
  },
  {
   "cell_type": "code",
   "execution_count": 9,
   "id": "moved-palmer",
   "metadata": {},
   "outputs": [],
   "source": [
    "products['brand_name']=products['brand_name'].apply(ohne_probel)\n",
    "products['product_name']=products['product_name'].apply(ohne_probel)\n",
    "product_properties['property_name']=product_properties['property_name'].apply(ohne_probel)\n",
    "product_properties['property_value']=product_properties['property_value'].apply(ohne_probel)\n",
    "orders['retailer']=orders['retailer'].apply(ohne_probel)"
   ]
  },
  {
   "cell_type": "markdown",
   "id": "leading-cookie",
   "metadata": {},
   "source": [
    "# Очистка пользователей B2B"
   ]
  },
  {
   "cell_type": "code",
   "execution_count": 10,
   "id": "artistic-return",
   "metadata": {},
   "outputs": [],
   "source": [
    "# введем столбец (количество) * (цена) = (полная стоимость товара)\n",
    "sumprice = (products['quantity']*products['price']).rename(\"sumprice\") # полная стоимость товара\n",
    "products.insert(5, \"Sumprice\", sumprice, True)"
   ]
  },
  {
   "cell_type": "markdown",
   "id": "suburban-novel",
   "metadata": {},
   "source": [
    "## Найдем общую стоимость каждого заказа"
   ]
  },
  {
   "cell_type": "code",
   "execution_count": 11,
   "id": "nuclear-vegetation",
   "metadata": {
    "scrolled": false
   },
   "outputs": [],
   "source": [
    "sum_order = products.groupby([\"order_id\"])[\"Sumprice\"].sum()"
   ]
  },
  {
   "cell_type": "code",
   "execution_count": 12,
   "id": "opponent-stress",
   "metadata": {},
   "outputs": [
    {
     "data": {
      "text/plain": [
       "<AxesSubplot:>"
      ]
     },
     "execution_count": 12,
     "metadata": {},
     "output_type": "execute_result"
    },
    {
     "data": {
      "image/png": "[encoded data removed]",
      "text/plain": [
       "<Figure size 432x288 with 1 Axes>"
      ]
     },
     "metadata": {
      "needs_background": "light"
     },
     "output_type": "display_data"
    }
   ],
   "source": [
    "sum_order[(100000>sum_order)&(10000<sum_order)].hist(bins =100)"
   ]
  },
  {
   "cell_type": "markdown",
   "id": "moral-inspector",
   "metadata": {},
   "source": [
    "Видно, что это почти непрерывная экспонента, правильнее всего оборвать тогда, когда заканчивается непрерывность."
   ]
  },
  {
   "cell_type": "code",
   "execution_count": 13,
   "id": "native-sierra",
   "metadata": {
    "scrolled": true
   },
   "outputs": [
    {
     "data": {
      "text/plain": [
       "<AxesSubplot:>"
      ]
     },
     "execution_count": 13,
     "metadata": {},
     "output_type": "execute_result"
    },
    {
     "data": {
      "image/png": "[encoded data removed]",
      "text/plain": [
       "<Figure size 432x288 with 1 Axes>"
      ]
     },
     "metadata": {
      "needs_background": "light"
     },
     "output_type": "display_data"
    }
   ],
   "source": [
    "sum_order[(200000>sum_order)&(50000<sum_order) ].hist(bins =100)"
   ]
  },
  {
   "cell_type": "markdown",
   "id": "exciting-shuttle",
   "metadata": {},
   "source": [
    "Возьму ограничение в 80к на общую стоимость заказа"
   ]
  },
  {
   "cell_type": "code",
   "execution_count": 14,
   "id": "motivated-twenty",
   "metadata": {
    "scrolled": true
   },
   "outputs": [],
   "source": [
    "delete = sum_order[(80000<sum_order)].index.get_level_values('order_id')"
   ]
  },
  {
   "cell_type": "code",
   "execution_count": 15,
   "id": "generous-partition",
   "metadata": {},
   "outputs": [],
   "source": [
    "products = products[~products[\"order_id\"].isin(delete)]"
   ]
  },
  {
   "cell_type": "markdown",
   "id": "bound-dispute",
   "metadata": {},
   "source": [
    "# Фильтры\n",
    "Но все равно некоторые товары очевидно куплены не для личного пользования - 100 пачек кофе, например\n",
    "\n",
    "Посмотрев на график зависимости количества одинаковых товаров от их суммарной стоимости, я пришел к выводу использования 4 фильтров:\n",
    "\n",
    "1) 1 или 2 товара могут быть любой стоимости\n",
    "\n",
    "2) Суммарная стоимость любого количества товаров не больше 1000\n",
    "\n",
    "3) почти все продукты находятся под прямой (количество)/40 + (суммарная цена)/10000 = 1\n",
    "\n",
    "4) питьевые жидкости и кормы для животных под прямой (количество)/80 + (суммарная цена)/15000) = 1"
   ]
  },
  {
   "cell_type": "code",
   "execution_count": 16,
   "id": "featured-colorado",
   "metadata": {},
   "outputs": [
    {
     "data": {
      "text/plain": [
       "<matplotlib.collections.PathCollection at 0x2032946fd90>"
      ]
     },
     "execution_count": 16,
     "metadata": {},
     "output_type": "execute_result"
    },
    {
     "data": {
      "image/png": "[encoded data removed]",
      "text/plain": [
       "<Figure size 432x288 with 1 Axes>"
      ]
     },
     "metadata": {
      "needs_background": "light"
     },
     "output_type": "display_data"
    }
   ],
   "source": [
    "#на графике не указаны точки с количеством больше 150, для наглядности\n",
    "# до применения фильтров:\n",
    "prod = products[(products['quantity']<150)]\n",
    "plt.scatter(prod['Sumprice'], prod['quantity'])"
   ]
  },
  {
   "cell_type": "code",
   "execution_count": 17,
   "id": "nasty-uzbekistan",
   "metadata": {},
   "outputs": [
    {
     "data": {
      "text/plain": [
       "<matplotlib.collections.PathCollection at 0x1ffeb6ca640>"
      ]
     },
     "execution_count": 17,
     "metadata": {},
     "output_type": "execute_result"
    },
    {
     "data": {
      "image/png": "[encoded data removed]",
      "text/plain": [
       "<Figure size 432x288 with 1 Axes>"
      ]
     },
     "metadata": {
      "needs_background": "light"
     },
     "output_type": "display_data"
    }
   ],
   "source": [
    "# после применения фильтров:\n",
    "pr = products[(products['quantity'] <= 2) | ((products['Sumprice']<140) | (products['quantity']/30 + products['Sumprice']/7500 <1) | (((products['parent_category_id']==345)|(products['parent_category_id']==74))&((products['quantity']/50+products['Sumprice']/10000)<1)))]\n",
    "plt.scatter(pr['Sumprice'], pr['quantity'])\n",
    "#на графике не указаны точки с количеством больше 45, для наглядности"
   ]
  },
  {
   "cell_type": "code",
   "execution_count": 18,
   "id": "departmental-elimination",
   "metadata": {
    "scrolled": true
   },
   "outputs": [
    {
     "data": {
      "text/plain": [
       "<matplotlib.collections.PathCollection at 0x20249b26fa0>"
      ]
     },
     "execution_count": 18,
     "metadata": {},
     "output_type": "execute_result"
    },
    {
     "data": {
      "image/png": "[encoded data removed]",
      "text/plain": [
       "<Figure size 432x288 with 1 Axes>"
      ]
     },
     "metadata": {
      "needs_background": "light"
     },
     "output_type": "display_data"
    }
   ],
   "source": [
    "# так выглядят очищенные данные\n",
    "delete1 = products[(products['quantity'] > 2) & (products['Sumprice']>1000) & ((products['quantity']/40 + products['Sumprice']/10000 > 1) | (((products['parent_category_id']==345)|(products['parent_category_id']==74))&((products['quantity']/80+products['Sumprice']/15000)>1)))]\n",
    "products = products[(~products[\"user_id\"].isin(delete1['user_id'].values))&(products['quantity']<80)&(products['Sumprice']<20000)]\n",
    "plt.scatter(products['Sumprice'], products['quantity'])"
   ]
  },
  {
   "cell_type": "markdown",
   "id": "adjustable-highland",
   "metadata": {},
   "source": [
    "## Найдем потраченные деньги каждым пользователем и разделим на интервал покупок"
   ]
  },
  {
   "cell_type": "code",
   "execution_count": 19,
   "id": "expressed-imaging",
   "metadata": {},
   "outputs": [
    {
     "ename": "TypeError",
     "evalue": "cannot astype a timedelta from [timedelta64[ns]] to [int32]",
     "output_type": "error",
     "traceback": [
      "\u001b[1;31m---------------------------------------------------------------------------\u001b[0m",
      "\u001b[1;31mTypeError\u001b[0m                                 Traceback (most recent call last)",
      "\u001b[1;32m<ipython-input-19-07844db27858>\u001b[0m in \u001b[0;36m<module>\u001b[1;34m\u001b[0m\n\u001b[0;32m      4\u001b[0m \u001b[0mdiffertime\u001b[0m \u001b[1;33m=\u001b[0m \u001b[1;33m(\u001b[0m\u001b[0mmaxtime\u001b[0m\u001b[1;33m-\u001b[0m\u001b[0mmintime\u001b[0m\u001b[1;33m)\u001b[0m\u001b[1;33m\u001b[0m\u001b[1;33m\u001b[0m\u001b[0m\n\u001b[0;32m      5\u001b[0m \u001b[0mproducts\u001b[0m \u001b[1;33m=\u001b[0m \u001b[0mproducts\u001b[0m\u001b[1;33m.\u001b[0m\u001b[0mmerge\u001b[0m\u001b[1;33m(\u001b[0m\u001b[0mdiffertime\u001b[0m\u001b[1;33m,\u001b[0m \u001b[0mon\u001b[0m\u001b[1;33m=\u001b[0m\u001b[1;34m\"user_id\"\u001b[0m\u001b[1;33m,\u001b[0m \u001b[0mhow\u001b[0m\u001b[1;33m=\u001b[0m\u001b[1;34m\"inner\"\u001b[0m\u001b[1;33m)\u001b[0m\u001b[1;33m\u001b[0m\u001b[1;33m\u001b[0m\u001b[0m\n\u001b[1;32m----> 6\u001b[1;33m \u001b[0mproducts\u001b[0m\u001b[1;33m[\u001b[0m\u001b[1;34m\"order_created_time\"\u001b[0m\u001b[1;33m]\u001b[0m \u001b[1;33m=\u001b[0m\u001b[1;33m(\u001b[0m\u001b[1;33m(\u001b[0m\u001b[0mproducts\u001b[0m\u001b[1;33m[\u001b[0m\u001b[1;34m\"order_created_time\"\u001b[0m\u001b[1;33m]\u001b[0m\u001b[1;33m)\u001b[0m\u001b[1;33m.\u001b[0m\u001b[0mastype\u001b[0m\u001b[1;33m(\u001b[0m\u001b[1;34m\"int32\"\u001b[0m\u001b[1;33m)\u001b[0m\u001b[1;33m/\u001b[0m\u001b[1;33m(\u001b[0m\u001b[1;36m8.64\u001b[0m\u001b[1;33m*\u001b[0m\u001b[1;36m10\u001b[0m\u001b[1;33m**\u001b[0m\u001b[1;36m13\u001b[0m\u001b[1;33m)\u001b[0m\u001b[1;33m)\u001b[0m\u001b[1;33m+\u001b[0m\u001b[1;36m7\u001b[0m\u001b[1;33m\u001b[0m\u001b[1;33m\u001b[0m\u001b[0m\n\u001b[0m",
      "\u001b[1;32mC:\\ProgramData\\Miniconda3\\lib\\site-packages\\pandas\\core\\generic.py\u001b[0m in \u001b[0;36mastype\u001b[1;34m(self, dtype, copy, errors)\u001b[0m\n\u001b[0;32m   5872\u001b[0m         \u001b[1;32melse\u001b[0m\u001b[1;33m:\u001b[0m\u001b[1;33m\u001b[0m\u001b[1;33m\u001b[0m\u001b[0m\n\u001b[0;32m   5873\u001b[0m             \u001b[1;31m# else, only a single dtype is given\u001b[0m\u001b[1;33m\u001b[0m\u001b[1;33m\u001b[0m\u001b[1;33m\u001b[0m\u001b[0m\n\u001b[1;32m-> 5874\u001b[1;33m             \u001b[0mnew_data\u001b[0m \u001b[1;33m=\u001b[0m \u001b[0mself\u001b[0m\u001b[1;33m.\u001b[0m\u001b[0m_mgr\u001b[0m\u001b[1;33m.\u001b[0m\u001b[0mastype\u001b[0m\u001b[1;33m(\u001b[0m\u001b[0mdtype\u001b[0m\u001b[1;33m=\u001b[0m\u001b[0mdtype\u001b[0m\u001b[1;33m,\u001b[0m \u001b[0mcopy\u001b[0m\u001b[1;33m=\u001b[0m\u001b[0mcopy\u001b[0m\u001b[1;33m,\u001b[0m \u001b[0merrors\u001b[0m\u001b[1;33m=\u001b[0m\u001b[0merrors\u001b[0m\u001b[1;33m)\u001b[0m\u001b[1;33m\u001b[0m\u001b[1;33m\u001b[0m\u001b[0m\n\u001b[0m\u001b[0;32m   5875\u001b[0m             \u001b[1;32mreturn\u001b[0m \u001b[0mself\u001b[0m\u001b[1;33m.\u001b[0m\u001b[0m_constructor\u001b[0m\u001b[1;33m(\u001b[0m\u001b[0mnew_data\u001b[0m\u001b[1;33m)\u001b[0m\u001b[1;33m.\u001b[0m\u001b[0m__finalize__\u001b[0m\u001b[1;33m(\u001b[0m\u001b[0mself\u001b[0m\u001b[1;33m,\u001b[0m \u001b[0mmethod\u001b[0m\u001b[1;33m=\u001b[0m\u001b[1;34m\"astype\"\u001b[0m\u001b[1;33m)\u001b[0m\u001b[1;33m\u001b[0m\u001b[1;33m\u001b[0m\u001b[0m\n\u001b[0;32m   5876\u001b[0m \u001b[1;33m\u001b[0m\u001b[0m\n",
      "\u001b[1;32mC:\\ProgramData\\Miniconda3\\lib\\site-packages\\pandas\\core\\internals\\managers.py\u001b[0m in \u001b[0;36mastype\u001b[1;34m(self, dtype, copy, errors)\u001b[0m\n\u001b[0;32m    629\u001b[0m         \u001b[0mself\u001b[0m\u001b[1;33m,\u001b[0m \u001b[0mdtype\u001b[0m\u001b[1;33m,\u001b[0m \u001b[0mcopy\u001b[0m\u001b[1;33m:\u001b[0m \u001b[0mbool\u001b[0m \u001b[1;33m=\u001b[0m \u001b[1;32mFalse\u001b[0m\u001b[1;33m,\u001b[0m \u001b[0merrors\u001b[0m\u001b[1;33m:\u001b[0m \u001b[0mstr\u001b[0m \u001b[1;33m=\u001b[0m \u001b[1;34m\"raise\"\u001b[0m\u001b[1;33m\u001b[0m\u001b[1;33m\u001b[0m\u001b[0m\n\u001b[0;32m    630\u001b[0m     ) -> \"BlockManager\":\n\u001b[1;32m--> 631\u001b[1;33m         \u001b[1;32mreturn\u001b[0m \u001b[0mself\u001b[0m\u001b[1;33m.\u001b[0m\u001b[0mapply\u001b[0m\u001b[1;33m(\u001b[0m\u001b[1;34m\"astype\"\u001b[0m\u001b[1;33m,\u001b[0m \u001b[0mdtype\u001b[0m\u001b[1;33m=\u001b[0m\u001b[0mdtype\u001b[0m\u001b[1;33m,\u001b[0m \u001b[0mcopy\u001b[0m\u001b[1;33m=\u001b[0m\u001b[0mcopy\u001b[0m\u001b[1;33m,\u001b[0m \u001b[0merrors\u001b[0m\u001b[1;33m=\u001b[0m\u001b[0merrors\u001b[0m\u001b[1;33m)\u001b[0m\u001b[1;33m\u001b[0m\u001b[1;33m\u001b[0m\u001b[0m\n\u001b[0m\u001b[0;32m    632\u001b[0m \u001b[1;33m\u001b[0m\u001b[0m\n\u001b[0;32m    633\u001b[0m     def convert(\n",
      "\u001b[1;32mC:\\ProgramData\\Miniconda3\\lib\\site-packages\\pandas\\core\\internals\\managers.py\u001b[0m in \u001b[0;36mapply\u001b[1;34m(self, f, align_keys, ignore_failures, **kwargs)\u001b[0m\n\u001b[0;32m    425\u001b[0m                     \u001b[0mapplied\u001b[0m \u001b[1;33m=\u001b[0m \u001b[0mb\u001b[0m\u001b[1;33m.\u001b[0m\u001b[0mapply\u001b[0m\u001b[1;33m(\u001b[0m\u001b[0mf\u001b[0m\u001b[1;33m,\u001b[0m \u001b[1;33m**\u001b[0m\u001b[0mkwargs\u001b[0m\u001b[1;33m)\u001b[0m\u001b[1;33m\u001b[0m\u001b[1;33m\u001b[0m\u001b[0m\n\u001b[0;32m    426\u001b[0m                 \u001b[1;32melse\u001b[0m\u001b[1;33m:\u001b[0m\u001b[1;33m\u001b[0m\u001b[1;33m\u001b[0m\u001b[0m\n\u001b[1;32m--> 427\u001b[1;33m                     \u001b[0mapplied\u001b[0m \u001b[1;33m=\u001b[0m \u001b[0mgetattr\u001b[0m\u001b[1;33m(\u001b[0m\u001b[0mb\u001b[0m\u001b[1;33m,\u001b[0m \u001b[0mf\u001b[0m\u001b[1;33m)\u001b[0m\u001b[1;33m(\u001b[0m\u001b[1;33m**\u001b[0m\u001b[0mkwargs\u001b[0m\u001b[1;33m)\u001b[0m\u001b[1;33m\u001b[0m\u001b[1;33m\u001b[0m\u001b[0m\n\u001b[0m\u001b[0;32m    428\u001b[0m             \u001b[1;32mexcept\u001b[0m \u001b[1;33m(\u001b[0m\u001b[0mTypeError\u001b[0m\u001b[1;33m,\u001b[0m \u001b[0mNotImplementedError\u001b[0m\u001b[1;33m)\u001b[0m\u001b[1;33m:\u001b[0m\u001b[1;33m\u001b[0m\u001b[1;33m\u001b[0m\u001b[0m\n\u001b[0;32m    429\u001b[0m                 \u001b[1;32mif\u001b[0m \u001b[1;32mnot\u001b[0m \u001b[0mignore_failures\u001b[0m\u001b[1;33m:\u001b[0m\u001b[1;33m\u001b[0m\u001b[1;33m\u001b[0m\u001b[0m\n",
      "\u001b[1;32mC:\\ProgramData\\Miniconda3\\lib\\site-packages\\pandas\\core\\internals\\blocks.py\u001b[0m in \u001b[0;36mastype\u001b[1;34m(self, dtype, copy, errors)\u001b[0m\n\u001b[0;32m    671\u001b[0m             \u001b[0mvals1d\u001b[0m \u001b[1;33m=\u001b[0m \u001b[0mvalues\u001b[0m\u001b[1;33m.\u001b[0m\u001b[0mravel\u001b[0m\u001b[1;33m(\u001b[0m\u001b[1;33m)\u001b[0m\u001b[1;33m\u001b[0m\u001b[1;33m\u001b[0m\u001b[0m\n\u001b[0;32m    672\u001b[0m             \u001b[1;32mtry\u001b[0m\u001b[1;33m:\u001b[0m\u001b[1;33m\u001b[0m\u001b[1;33m\u001b[0m\u001b[0m\n\u001b[1;32m--> 673\u001b[1;33m                 \u001b[0mvalues\u001b[0m \u001b[1;33m=\u001b[0m \u001b[0mastype_nansafe\u001b[0m\u001b[1;33m(\u001b[0m\u001b[0mvals1d\u001b[0m\u001b[1;33m,\u001b[0m \u001b[0mdtype\u001b[0m\u001b[1;33m,\u001b[0m \u001b[0mcopy\u001b[0m\u001b[1;33m=\u001b[0m\u001b[1;32mTrue\u001b[0m\u001b[1;33m)\u001b[0m\u001b[1;33m\u001b[0m\u001b[1;33m\u001b[0m\u001b[0m\n\u001b[0m\u001b[0;32m    674\u001b[0m             \u001b[1;32mexcept\u001b[0m \u001b[1;33m(\u001b[0m\u001b[0mValueError\u001b[0m\u001b[1;33m,\u001b[0m \u001b[0mTypeError\u001b[0m\u001b[1;33m)\u001b[0m\u001b[1;33m:\u001b[0m\u001b[1;33m\u001b[0m\u001b[1;33m\u001b[0m\u001b[0m\n\u001b[0;32m    675\u001b[0m                 \u001b[1;31m# e.g. astype_nansafe can fail on object-dtype of strings\u001b[0m\u001b[1;33m\u001b[0m\u001b[1;33m\u001b[0m\u001b[1;33m\u001b[0m\u001b[0m\n",
      "\u001b[1;32mC:\\ProgramData\\Miniconda3\\lib\\site-packages\\pandas\\core\\dtypes\\cast.py\u001b[0m in \u001b[0;36mastype_nansafe\u001b[1;34m(arr, dtype, copy, skipna)\u001b[0m\n\u001b[0;32m   1061\u001b[0m             \u001b[1;32mreturn\u001b[0m \u001b[0marr\u001b[0m\u001b[1;33m.\u001b[0m\u001b[0mastype\u001b[0m\u001b[1;33m(\u001b[0m\u001b[0mTD64NS_DTYPE\u001b[0m\u001b[1;33m,\u001b[0m \u001b[0mcopy\u001b[0m\u001b[1;33m=\u001b[0m\u001b[0mcopy\u001b[0m\u001b[1;33m)\u001b[0m\u001b[1;33m\u001b[0m\u001b[1;33m\u001b[0m\u001b[0m\n\u001b[0;32m   1062\u001b[0m \u001b[1;33m\u001b[0m\u001b[0m\n\u001b[1;32m-> 1063\u001b[1;33m         \u001b[1;32mraise\u001b[0m \u001b[0mTypeError\u001b[0m\u001b[1;33m(\u001b[0m\u001b[1;34mf\"cannot astype a timedelta from [{arr.dtype}] to [{dtype}]\"\u001b[0m\u001b[1;33m)\u001b[0m\u001b[1;33m\u001b[0m\u001b[1;33m\u001b[0m\u001b[0m\n\u001b[0m\u001b[0;32m   1064\u001b[0m \u001b[1;33m\u001b[0m\u001b[0m\n\u001b[0;32m   1065\u001b[0m     \u001b[1;32melif\u001b[0m \u001b[0mnp\u001b[0m\u001b[1;33m.\u001b[0m\u001b[0missubdtype\u001b[0m\u001b[1;33m(\u001b[0m\u001b[0marr\u001b[0m\u001b[1;33m.\u001b[0m\u001b[0mdtype\u001b[0m\u001b[1;33m,\u001b[0m \u001b[0mnp\u001b[0m\u001b[1;33m.\u001b[0m\u001b[0mfloating\u001b[0m\u001b[1;33m)\u001b[0m \u001b[1;32mand\u001b[0m \u001b[0mnp\u001b[0m\u001b[1;33m.\u001b[0m\u001b[0missubdtype\u001b[0m\u001b[1;33m(\u001b[0m\u001b[0mdtype\u001b[0m\u001b[1;33m,\u001b[0m \u001b[0mnp\u001b[0m\u001b[1;33m.\u001b[0m\u001b[0minteger\u001b[0m\u001b[1;33m)\u001b[0m\u001b[1;33m:\u001b[0m\u001b[1;33m\u001b[0m\u001b[1;33m\u001b[0m\u001b[0m\n",
      "\u001b[1;31mTypeError\u001b[0m: cannot astype a timedelta from [timedelta64[ns]] to [int32]"
     ]
    }
   ],
   "source": [
    "orders[\"order_created_time\"] = pd.to_datetime(orders[\"order_created_time\"])\n",
    "maxtime = orders.groupby([\"user_id\"])[\"order_created_time\"].max()\n",
    "mintime = orders.groupby([\"user_id\"])[\"order_created_time\"].min()\n",
    "differtime = (maxtime-mintime)\n",
    "products = products.merge(differtime, on=\"user_id\", how=\"inner\")\n",
    "products[\"order_created_time\"] = (products[\"order_created_time\"]/(8.64*10**13))+7"
   ]
  },
  {
   "cell_type": "code",
   "execution_count": null,
   "id": "polished-tourism",
   "metadata": {},
   "outputs": [],
   "source": [
    "sum_user_all = products.groupby([\"user_id\"])[\"Sumprice\"].sum().rename(\"sum_user\")"
   ]
  },
  {
   "cell_type": "code",
   "execution_count": null,
   "id": "naval-radio",
   "metadata": {},
   "outputs": [],
   "source": [
    "sum_user = products[\"Sumprice\"] / products[\"order_created_time\"] "
   ]
  },
  {
   "cell_type": "code",
   "execution_count": null,
   "id": "dressed-investigation",
   "metadata": {},
   "outputs": [],
   "source": [
    "sum_user[(10000>sum_user)&(100<sum_user) ].hist(bins =100)"
   ]
  },
  {
   "cell_type": "markdown",
   "id": "smart-surname",
   "metadata": {},
   "source": [
    "Видно, что это почти непрерывная экспонента"
   ]
  },
  {
   "cell_type": "code",
   "execution_count": null,
   "id": "dutch-proposal",
   "metadata": {},
   "outputs": [],
   "source": [
    "sum_user[(10000>sum_user)&(1000<sum_user) ].hist(bins =100)"
   ]
  },
  {
   "cell_type": "markdown",
   "id": "characteristic-vinyl",
   "metadata": {},
   "source": [
    "обрежу на 2к в день"
   ]
  },
  {
   "cell_type": "code",
   "execution_count": null,
   "id": "moderate-listening",
   "metadata": {},
   "outputs": [],
   "source": [
    "products = products[~products[\"user_id\"].isin(sum_user[(2000<sum_user)].index)]"
   ]
  },
  {
   "cell_type": "code",
   "execution_count": null,
   "id": "czech-wrong",
   "metadata": {},
   "outputs": [],
   "source": [
    "# нужно удалить введенный столбец Sumprice\n",
    "products = products.drop(['Sumprice'], axis=1)"
   ]
  },
  {
   "cell_type": "markdown",
   "id": "worse-spending",
   "metadata": {},
   "source": [
    "# Добавить в тестовые данные колонки `store_id`."
   ]
  },
  {
   "cell_type": "code",
   "execution_count": 21,
   "id": "pharmaceutical-electric",
   "metadata": {},
   "outputs": [],
   "source": [
    "user_stores = pd.read_csv(os.path.join(RAW_DATA_DIR, \"user_stores.csv\"))\n",
    "sample_submission = pd.read_csv(os.path.join(RAW_DATA_DIR, \"sample_submission.csv\"))"
   ]
  },
  {
   "cell_type": "code",
   "execution_count": 22,
   "id": "personal-collection",
   "metadata": {
    "scrolled": true
   },
   "outputs": [],
   "source": [
    "sample_submission.rename(columns={'Id': 'user_id'}, inplace=True)"
   ]
  },
  {
   "cell_type": "code",
   "execution_count": null,
   "id": "revolutionary-lighting",
   "metadata": {
    "scrolled": true
   },
   "outputs": [],
   "source": [
    "sample_submission = sample_submission.merge(user_stores, on ='user_id', how=\"inner\")"
   ]
  },
  {
   "cell_type": "code",
   "execution_count": null,
   "id": "elect-drama",
   "metadata": {},
   "outputs": [],
   "source": [
    "sample_submission.to_csv(os.path.join(RAW_DATA_DIR, \"sample_submission_output.csv\"), index=False)\n",
    "products.to_csv(os.path.join(RAW_DATA_DIR, \"products.csv\"), index=False)"
   ]
  },
  {
   "cell_type": "markdown",
   "id": "interesting-federal",
   "metadata": {},
   "source": [
    "# Проверка холодного старта"
   ]
  },
  {
   "cell_type": "code",
   "execution_count": 23,
   "id": "continental-commons",
   "metadata": {},
   "outputs": [
    {
     "data": {
      "text/plain": [
       "100907"
      ]
     },
     "execution_count": 23,
     "metadata": {},
     "output_type": "execute_result"
    }
   ],
   "source": [
    "sample_submission['user_id'].isin(products['user_id']).sum()"
   ]
  }
 ],
 "metadata": {
  "kernelspec": {
   "display_name": "Python 3",
   "language": "python",
   "name": "python3"
  },
  "language_info": {
   "codemirror_mode": {
    "name": "ipython",
    "version": 3
   },
   "file_extension": ".py",
   "mimetype": "text/x-python",
   "name": "python",
   "nbconvert_exporter": "python",
   "pygments_lexer": "ipython3",
   "version": "3.8.5"
  }
 },
 "nbformat": 4,
 "nbformat_minor": 5
}
