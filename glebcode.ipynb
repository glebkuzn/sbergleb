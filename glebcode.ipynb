{
 "cells": [
  {
   "cell_type": "markdown",
   "id": "coordinate-federal",
   "metadata": {},
   "source": [
    "# Введение библиотек, обозначение пути, загрузка данных"
   ]
  },
  {
   "cell_type": "code",
   "execution_count": 27,
   "id": "antique-siemens",
   "metadata": {},
   "outputs": [],
   "source": [
    "import numpy as np\n",
    "import pandas as pd\n",
    "from matplotlib import pyplot as plt\n",
    "import os\n",
    "pd.options.display.max_rows = 999\n",
    "pd.set_option(\"expand_frame_repr\", True)\n",
    "\n",
    "RAW_DATA_DIR = 'C:/Users/Admin/Desktop'\n",
    "orders = pd.read_csv(os.path.join(RAW_DATA_DIR, \"kaggle_tab_1345\", \"tab_1_orders.csv\"))\n",
    "products = pd.read_csv(os.path.join(RAW_DATA_DIR, \"sbermarket_tab_2_4/tab_2_products_2020-06-19.csv\"))\n",
    "relative_discount = products[\"discount\"] / (products[\"discount\"] + products[\"price\"])\n",
    "product_properties = pd.read_csv(os.path.join(RAW_DATA_DIR, \"kaggle_tab_1345\", \"tab_5_product_properties.csv\"))"
   ]
  },
  {
   "cell_type": "markdown",
   "id": "engaged-beatles",
   "metadata": {},
   "source": [
    "# Удаление простого мусора и проверка"
   ]
  },
  {
   "cell_type": "markdown",
   "id": "square-consultation",
   "metadata": {},
   "source": [
    "## Продукты"
   ]
  },
  {
   "cell_type": "code",
   "execution_count": 2,
   "id": "challenging-healing",
   "metadata": {
    "scrolled": false
   },
   "outputs": [
    {
     "data": {
      "text/plain": [
       "[user_id                    0\n",
       " order_id                   0\n",
       " line_item_id               0\n",
       " price                      0\n",
       " quantity                   0\n",
       " discount                   0\n",
       " product_name               0\n",
       " product_id                 0\n",
       " brand_name            391088\n",
       " master_category_id       594\n",
       " parent_category_id         0\n",
       " dtype: int64,\n",
       " 0,\n",
       " 0,\n",
       " 0]"
      ]
     },
     "execution_count": 2,
     "metadata": {},
     "output_type": "execute_result"
    }
   ],
   "source": [
    "products[\"brand_name\"] = products[\"brand_name\"].replace([\"Без бренда\",'-','No brand'], np.nan)\n",
    "products = products.dropna(subset=['price', 'discount', 'quantity', 'product_name'])\n",
    "products = products[products['price']>0]\n",
    "products = products[products['quantity']>0]\n",
    "products = products[products['discount']>=0]\n",
    "# проверка\n",
    "[products.isna().sum(),\n",
    "len(products[products[\"price\"] <= 0]),\n",
    "len(products[products[\"quantity\"] <= 0]),\n",
    "len(products[products[\"discount\"] < 0])]"
   ]
  },
  {
   "cell_type": "markdown",
   "id": "stone-immunology",
   "metadata": {},
   "source": [
    "## Свойства продуктов"
   ]
  },
  {
   "cell_type": "code",
   "execution_count": 3,
   "id": "gross-education",
   "metadata": {
    "scrolled": true
   },
   "outputs": [
    {
     "data": {
      "text/plain": [
       "product_id        0\n",
       "property_name     0\n",
       "property_value    1\n",
       "dtype: int64"
      ]
     },
     "execution_count": 3,
     "metadata": {},
     "output_type": "execute_result"
    }
   ],
   "source": [
    "product_properties.isna().sum(axis=0)"
   ]
  },
  {
   "cell_type": "code",
   "execution_count": 4,
   "id": "virgin-procedure",
   "metadata": {},
   "outputs": [
    {
     "data": {
      "text/html": [
       "<div>\n",
       "<style scoped>\n",
       "    .dataframe tbody tr th:only-of-type {\n",
       "        vertical-align: middle;\n",
       "    }\n",
       "\n",
       "    .dataframe tbody tr th {\n",
       "        vertical-align: top;\n",
       "    }\n",
       "\n",
       "    .dataframe thead th {\n",
       "        text-align: right;\n",
       "    }\n",
       "</style>\n",
       "<table border=\"1\" class=\"dataframe\">\n",
       "  <thead>\n",
       "    <tr style=\"text-align: right;\">\n",
       "      <th></th>\n",
       "      <th>product_id</th>\n",
       "      <th>property_name</th>\n",
       "      <th>property_value</th>\n",
       "    </tr>\n",
       "  </thead>\n",
       "  <tbody>\n",
       "    <tr>\n",
       "      <th>644240</th>\n",
       "      <td>84195</td>\n",
       "      <td>ingredients</td>\n",
       "      <td>NaN</td>\n",
       "    </tr>\n",
       "  </tbody>\n",
       "</table>\n",
       "</div>"
      ],
      "text/plain": [
       "        product_id property_name property_value\n",
       "644240       84195   ingredients            NaN"
      ]
     },
     "execution_count": 4,
     "metadata": {},
     "output_type": "execute_result"
    }
   ],
   "source": [
    "product_properties[product_properties['property_value'].isna()]"
   ]
  },
  {
   "cell_type": "code",
   "execution_count": 5,
   "id": "collectible-massage",
   "metadata": {
    "scrolled": true
   },
   "outputs": [],
   "source": [
    "# состав не может быть пустым\n",
    "product_properties = product_properties.dropna(subset=['property_value'])"
   ]
  },
  {
   "cell_type": "markdown",
   "id": "sunset-seating",
   "metadata": {},
   "source": [
    "# Заказы"
   ]
  },
  {
   "cell_type": "code",
   "execution_count": 6,
   "id": "imposed-enhancement",
   "metadata": {},
   "outputs": [
    {
     "data": {
      "text/plain": [
       "user_id                   0\n",
       "order_id                  0\n",
       "order_created_time        0\n",
       "retailer                  0\n",
       "store_id                  0\n",
       "platform              76536\n",
       "dtype: int64"
      ]
     },
     "execution_count": 6,
     "metadata": {},
     "output_type": "execute_result"
    }
   ],
   "source": [
    "orders[\"platform\"] = orders[\"platform\"].replace(\"undefined\", np.nan)\n",
    "orders.isna().sum(axis=0)"
   ]
  },
  {
   "cell_type": "markdown",
   "id": "french-procedure",
   "metadata": {},
   "source": [
    "## Удаление пробелов в названиях"
   ]
  },
  {
   "cell_type": "code",
   "execution_count": 7,
   "id": "vietnamese-cheat",
   "metadata": {},
   "outputs": [],
   "source": [
    "def ohne_probel(bn):\n",
    "    try:\n",
    "        b = bn.split()\n",
    "        b = ' '.join(b)\n",
    "        return b\n",
    "    except AttributeError:\n",
    "        return np.nan"
   ]
  },
  {
   "cell_type": "code",
   "execution_count": 8,
   "id": "moved-palmer",
   "metadata": {},
   "outputs": [],
   "source": [
    "products['brand_name']=products['brand_name'].apply(ohne_probel)\n",
    "products['product_name']=products['product_name'].apply(ohne_probel)\n",
    "product_properties['property_name']=product_properties['property_name'].apply(ohne_probel)\n",
    "product_properties['property_value']=product_properties['property_value'].apply(ohne_probel)\n",
    "orders['retailer']=orders['retailer'].apply(ohne_probel)"
   ]
  },
  {
   "cell_type": "markdown",
   "id": "leading-cookie",
   "metadata": {},
   "source": [
    "# Очистка пользователей B2B"
   ]
  },
  {
   "cell_type": "code",
   "execution_count": 9,
   "id": "artistic-return",
   "metadata": {},
   "outputs": [],
   "source": [
    "sumprice = (products['quantity']*products['price']).rename(\"sumprice\") # полная стоимость товара\n",
    "products.insert(5, \"Sumprice\", sumprice, True)"
   ]
  },
  {
   "cell_type": "markdown",
   "id": "suburban-novel",
   "metadata": {},
   "source": [
    "## Найдем общую стоимость каждого заказа"
   ]
  },
  {
   "cell_type": "code",
   "execution_count": 10,
   "id": "nuclear-vegetation",
   "metadata": {},
   "outputs": [],
   "source": [
    "sum_order = products.groupby(['user_id',\"order_id\"])[\"Sumprice\"].sum().rename(\"sum_order\")"
   ]
  },
  {
   "cell_type": "code",
   "execution_count": 11,
   "id": "opponent-stress",
   "metadata": {},
   "outputs": [
    {
     "data": {
      "text/plain": [
       "<AxesSubplot:>"
      ]
     },
     "execution_count": 11,
     "metadata": {},
     "output_type": "execute_result"
    },
    {
     "data": {
      "image/png": "[encoded data removed]",
      "text/plain": [
       "<Figure size 432x288 with 1 Axes>"
      ]
     },
     "metadata": {
      "needs_background": "light"
     },
     "output_type": "display_data"
    }
   ],
   "source": [
    "sum_order[(100000>sum_order)&(10000<sum_order)].hist(bins =100)"
   ]
  },
  {
   "cell_type": "markdown",
   "id": "moral-inspector",
   "metadata": {},
   "source": [
    "Видно, что это почти непрерывная экспонента, правильнее всего оборвать тогда, когда заканчивается непрерывность."
   ]
  },
  {
   "cell_type": "code",
   "execution_count": 12,
   "id": "native-sierra",
   "metadata": {},
   "outputs": [
    {
     "data": {
      "text/plain": [
       "<AxesSubplot:>"
      ]
     },
     "execution_count": 12,
     "metadata": {},
     "output_type": "execute_result"
    },
    {
     "data": {
      "image/png": "[encoded data removed]",
      "text/plain": [
       "<Figure size 432x288 with 1 Axes>"
      ]
     },
     "metadata": {
      "needs_background": "light"
     },
     "output_type": "display_data"
    }
   ],
   "source": [
    "sum_order[(80000>sum_order)&(40000<sum_order) ].hist(bins =100)"
   ]
  },
  {
   "cell_type": "markdown",
   "id": "exciting-shuttle",
   "metadata": {},
   "source": [
    "Возьму ограничение в 60к на общую стоимость заказа"
   ]
  },
  {
   "cell_type": "code",
   "execution_count": 13,
   "id": "motivated-twenty",
   "metadata": {
    "scrolled": true
   },
   "outputs": [
    {
     "data": {
      "text/plain": [
       "Int64Index([  40495,   56037,  169609,  171391,  734560, 1118259, 1196026,\n",
       "            1238487, 1326001, 1429992, 1577515, 1711813, 1790187, 1823770,\n",
       "            2213288, 2226519],\n",
       "           dtype='int64', name='user_id')"
      ]
     },
     "execution_count": 13,
     "metadata": {},
     "output_type": "execute_result"
    }
   ],
   "source": [
    "delete = sum_order[(60000<sum_order)].index.get_level_values('user_id')\n",
    "delete"
   ]
  },
  {
   "cell_type": "code",
   "execution_count": 14,
   "id": "generous-partition",
   "metadata": {},
   "outputs": [],
   "source": [
    "products = products[~products[\"user_id\"].isin(delete)].sort_values('Sumprice')"
   ]
  },
  {
   "cell_type": "markdown",
   "id": "bound-dispute",
   "metadata": {},
   "source": [
    "# Фильтры\n",
    "Но все равно некоторые товары очевидно куплены не для личного пользования - 100 пачек кофе, например\n",
    "\n",
    "Посмотрев на график зависимости количества одинаковых товаров от их суммарной стоимости, я пришел к выводу использования 4 фильтров:\n",
    "\n",
    "1) 1 или 2 товара могут быть любой стоимости\n",
    "\n",
    "2) Суммарная стоимость любого количества товаров не больше 1000\n",
    "\n",
    "3) почти все продукты находятся под прямой (количество)/40 + (суммарная цена)/10000 = 1\n",
    "\n",
    "4) питьевые жидкости и кормы для животных под прямой (количество)/80 + (суммарная цена)/15000) = 1"
   ]
  },
  {
   "cell_type": "code",
   "execution_count": 15,
   "id": "featured-colorado",
   "metadata": {},
   "outputs": [
    {
     "data": {
      "text/plain": [
       "<matplotlib.collections.PathCollection at 0x13e800f3bb0>"
      ]
     },
     "execution_count": 15,
     "metadata": {},
     "output_type": "execute_result"
    },
    {
     "data": {
      "image/png": "[encoded data removed]",
      "text/plain": [
       "<Figure size 432x288 with 1 Axes>"
      ]
     },
     "metadata": {
      "needs_background": "light"
     },
     "output_type": "display_data"
    }
   ],
   "source": [
    "#на графике не указаны точки с количеством больше 150, для наглядности\n",
    "# до применения фильтров:\n",
    "prod = products[(products['quantity']<150)]\n",
    "plt.scatter(prod['Sumprice'], prod['quantity'])"
   ]
  },
  {
   "cell_type": "code",
   "execution_count": 16,
   "id": "nasty-uzbekistan",
   "metadata": {},
   "outputs": [
    {
     "data": {
      "text/plain": [
       "<matplotlib.collections.PathCollection at 0x13e9c99e9d0>"
      ]
     },
     "execution_count": 16,
     "metadata": {},
     "output_type": "execute_result"
    },
    {
     "data": {
      "image/png": "[encoded data removed]",
      "text/plain": [
       "<Figure size 432x288 with 1 Axes>"
      ]
     },
     "metadata": {
      "needs_background": "light"
     },
     "output_type": "display_data"
    }
   ],
   "source": [
    "# после применения фильтров:\n",
    "pr = products[(products['quantity'] <= 2) | ((products['Sumprice']<140) | (products['quantity']/30 + products['Sumprice']/7500 <1) | (((products['parent_category_id']==345)|(products['parent_category_id']==74))&((products['quantity']/50+products['Sumprice']/10000)<1)))]\n",
    "plt.scatter(pr['Sumprice'], pr['quantity'])\n",
    "#на графике не указаны точки с количеством больше 45, для наглядности"
   ]
  },
  {
   "cell_type": "code",
   "execution_count": 17,
   "id": "departmental-elimination",
   "metadata": {
    "scrolled": true
   },
   "outputs": [
    {
     "data": {
      "text/plain": [
       "<matplotlib.collections.PathCollection at 0x13e9d22ce50>"
      ]
     },
     "execution_count": 17,
     "metadata": {},
     "output_type": "execute_result"
    },
    {
     "data": {
      "image/png": "[encoded data removed]",
      "text/plain": [
       "<Figure size 432x288 with 1 Axes>"
      ]
     },
     "metadata": {
      "needs_background": "light"
     },
     "output_type": "display_data"
    }
   ],
   "source": [
    "# так выглядят очищенные данные\n",
    "delete1 = products[(products['quantity'] > 2) & (products['Sumprice']>1000) & ((products['quantity']/40 + products['Sumprice']/10000 > 1) | (((products['parent_category_id']==345)|(products['parent_category_id']==74))&((products['quantity']/80+products['Sumprice']/15000)>1)))]\n",
    "produ =products[(~products[\"user_id\"].isin(delete1['user_id'].values))&(products['quantity']<80)&(products['Sumprice']<20000)]\n",
    "plt.scatter(produ['Sumprice'], produ['quantity'])"
   ]
  },
  {
   "cell_type": "code",
   "execution_count": 29,
   "id": "operational-produce",
   "metadata": {},
   "outputs": [
    {
     "data": {
      "text/html": [
       "<div>\n",
       "<style scoped>\n",
       "    .dataframe tbody tr th:only-of-type {\n",
       "        vertical-align: middle;\n",
       "    }\n",
       "\n",
       "    .dataframe tbody tr th {\n",
       "        vertical-align: top;\n",
       "    }\n",
       "\n",
       "    .dataframe thead th {\n",
       "        text-align: right;\n",
       "    }\n",
       "</style>\n",
       "<table border=\"1\" class=\"dataframe\">\n",
       "  <thead>\n",
       "    <tr style=\"text-align: right;\">\n",
       "      <th></th>\n",
       "      <th>user_id</th>\n",
       "      <th>order_id</th>\n",
       "      <th>line_item_id</th>\n",
       "      <th>price</th>\n",
       "      <th>quantity</th>\n",
       "      <th>Sumprice</th>\n",
       "      <th>discount</th>\n",
       "      <th>product_name</th>\n",
       "      <th>product_id</th>\n",
       "      <th>brand_name</th>\n",
       "      <th>master_category_id</th>\n",
       "      <th>parent_category_id</th>\n",
       "    </tr>\n",
       "  </thead>\n",
       "  <tbody>\n",
       "    <tr>\n",
       "      <th>708980</th>\n",
       "      <td>992631</td>\n",
       "      <td>11307025</td>\n",
       "      <td>120837533</td>\n",
       "      <td>0.04</td>\n",
       "      <td>1</td>\n",
       "      <td>0.04</td>\n",
       "      <td>0.0</td>\n",
       "      <td>Пирог Лента с клубникой ~500 г</td>\n",
       "      <td>7014941</td>\n",
       "      <td>Лента</td>\n",
       "      <td>598.0</td>\n",
       "      <td>51</td>\n",
       "    </tr>\n",
       "    <tr>\n",
       "      <th>1826714</th>\n",
       "      <td>1809434</td>\n",
       "      <td>11931033</td>\n",
       "      <td>122364502</td>\n",
       "      <td>0.04</td>\n",
       "      <td>1</td>\n",
       "      <td>0.04</td>\n",
       "      <td>0.0</td>\n",
       "      <td>Пирог Лента с клубникой ~500 г</td>\n",
       "      <td>7014941</td>\n",
       "      <td>Лента</td>\n",
       "      <td>598.0</td>\n",
       "      <td>51</td>\n",
       "    </tr>\n",
       "    <tr>\n",
       "      <th>2450097</th>\n",
       "      <td>2150633</td>\n",
       "      <td>12009437</td>\n",
       "      <td>118524116</td>\n",
       "      <td>0.04</td>\n",
       "      <td>2</td>\n",
       "      <td>0.08</td>\n",
       "      <td>0.0</td>\n",
       "      <td>Пирог Лента с клубникой ~500 г</td>\n",
       "      <td>7014941</td>\n",
       "      <td>Лента</td>\n",
       "      <td>598.0</td>\n",
       "      <td>51</td>\n",
       "    </tr>\n",
       "    <tr>\n",
       "      <th>2690829</th>\n",
       "      <td>2211929</td>\n",
       "      <td>11814354</td>\n",
       "      <td>120383237</td>\n",
       "      <td>0.04</td>\n",
       "      <td>3</td>\n",
       "      <td>0.12</td>\n",
       "      <td>0.0</td>\n",
       "      <td>Пирог Лента с клубникой ~500 г</td>\n",
       "      <td>7014941</td>\n",
       "      <td>Лента</td>\n",
       "      <td>598.0</td>\n",
       "      <td>51</td>\n",
       "    </tr>\n",
       "    <tr>\n",
       "      <th>1079174</th>\n",
       "      <td>1320563</td>\n",
       "      <td>12349872</td>\n",
       "      <td>120028450</td>\n",
       "      <td>0.28</td>\n",
       "      <td>1</td>\n",
       "      <td>0.28</td>\n",
       "      <td>0.0</td>\n",
       "      <td>Колбаса Дым Дымыч Со Сливками вареная ~1,2 кг</td>\n",
       "      <td>6827179</td>\n",
       "      <td>Дым Дымычъ</td>\n",
       "      <td>43.0</td>\n",
       "      <td>42</td>\n",
       "    </tr>\n",
       "    <tr>\n",
       "      <th>...</th>\n",
       "      <td>...</td>\n",
       "      <td>...</td>\n",
       "      <td>...</td>\n",
       "      <td>...</td>\n",
       "      <td>...</td>\n",
       "      <td>...</td>\n",
       "      <td>...</td>\n",
       "      <td>...</td>\n",
       "      <td>...</td>\n",
       "      <td>...</td>\n",
       "      <td>...</td>\n",
       "      <td>...</td>\n",
       "    </tr>\n",
       "    <tr>\n",
       "      <th>2084622</th>\n",
       "      <td>1950342</td>\n",
       "      <td>12630135</td>\n",
       "      <td>123661511</td>\n",
       "      <td>18999.00</td>\n",
       "      <td>1</td>\n",
       "      <td>18999.00</td>\n",
       "      <td>0.0</td>\n",
       "      <td>Кресло руководителя Самурай черное</td>\n",
       "      <td>5470642</td>\n",
       "      <td>NaN</td>\n",
       "      <td>706.0</td>\n",
       "      <td>487</td>\n",
       "    </tr>\n",
       "    <tr>\n",
       "      <th>152237</th>\n",
       "      <td>209259</td>\n",
       "      <td>10521153</td>\n",
       "      <td>121735833</td>\n",
       "      <td>18999.00</td>\n",
       "      <td>1</td>\n",
       "      <td>18999.00</td>\n",
       "      <td>0.0</td>\n",
       "      <td>Качели садовые Green apple Рандеву Премиум</td>\n",
       "      <td>7072074</td>\n",
       "      <td>Green Apple</td>\n",
       "      <td>930.0</td>\n",
       "      <td>543</td>\n",
       "    </tr>\n",
       "    <tr>\n",
       "      <th>2684185</th>\n",
       "      <td>2210610</td>\n",
       "      <td>12382067</td>\n",
       "      <td>120282018</td>\n",
       "      <td>18999.00</td>\n",
       "      <td>1</td>\n",
       "      <td>18999.00</td>\n",
       "      <td>0.0</td>\n",
       "      <td>Качели садовые Green apple Рандеву Премиум</td>\n",
       "      <td>7072074</td>\n",
       "      <td>Green Apple</td>\n",
       "      <td>930.0</td>\n",
       "      <td>543</td>\n",
       "    </tr>\n",
       "    <tr>\n",
       "      <th>2715311</th>\n",
       "      <td>2216288</td>\n",
       "      <td>7533759</td>\n",
       "      <td>49656982</td>\n",
       "      <td>9999.00</td>\n",
       "      <td>2</td>\n",
       "      <td>19998.00</td>\n",
       "      <td>2000.0</td>\n",
       "      <td>Гриль-тележка Tarrington House угольный со сто...</td>\n",
       "      <td>5474198</td>\n",
       "      <td>Tarrington House</td>\n",
       "      <td>431.0</td>\n",
       "      <td>429</td>\n",
       "    </tr>\n",
       "    <tr>\n",
       "      <th>2614246</th>\n",
       "      <td>2199013</td>\n",
       "      <td>12317205</td>\n",
       "      <td>119519625</td>\n",
       "      <td>19999.00</td>\n",
       "      <td>1</td>\n",
       "      <td>19999.00</td>\n",
       "      <td>0.0</td>\n",
       "      <td>Набор мебели ротанг</td>\n",
       "      <td>5469051</td>\n",
       "      <td>Tarrington House</td>\n",
       "      <td>923.0</td>\n",
       "      <td>541</td>\n",
       "    </tr>\n",
       "  </tbody>\n",
       "</table>\n",
       "<p>2868255 rows × 12 columns</p>\n",
       "</div>"
      ],
      "text/plain": [
       "         user_id  order_id  line_item_id     price  quantity  Sumprice  \\\n",
       "708980    992631  11307025     120837533      0.04         1      0.04   \n",
       "1826714  1809434  11931033     122364502      0.04         1      0.04   \n",
       "2450097  2150633  12009437     118524116      0.04         2      0.08   \n",
       "2690829  2211929  11814354     120383237      0.04         3      0.12   \n",
       "1079174  1320563  12349872     120028450      0.28         1      0.28   \n",
       "...          ...       ...           ...       ...       ...       ...   \n",
       "2084622  1950342  12630135     123661511  18999.00         1  18999.00   \n",
       "152237    209259  10521153     121735833  18999.00         1  18999.00   \n",
       "2684185  2210610  12382067     120282018  18999.00         1  18999.00   \n",
       "2715311  2216288   7533759      49656982   9999.00         2  19998.00   \n",
       "2614246  2199013  12317205     119519625  19999.00         1  19999.00   \n",
       "\n",
       "         discount                                       product_name  \\\n",
       "708980        0.0                     Пирог Лента с клубникой ~500 г   \n",
       "1826714       0.0                     Пирог Лента с клубникой ~500 г   \n",
       "2450097       0.0                     Пирог Лента с клубникой ~500 г   \n",
       "2690829       0.0                     Пирог Лента с клубникой ~500 г   \n",
       "1079174       0.0      Колбаса Дым Дымыч Со Сливками вареная ~1,2 кг   \n",
       "...           ...                                                ...   \n",
       "2084622       0.0                 Кресло руководителя Самурай черное   \n",
       "152237        0.0         Качели садовые Green apple Рандеву Премиум   \n",
       "2684185       0.0         Качели садовые Green apple Рандеву Премиум   \n",
       "2715311    2000.0  Гриль-тележка Tarrington House угольный со сто...   \n",
       "2614246       0.0                                Набор мебели ротанг   \n",
       "\n",
       "         product_id        brand_name  master_category_id  parent_category_id  \n",
       "708980      7014941             Лента               598.0                  51  \n",
       "1826714     7014941             Лента               598.0                  51  \n",
       "2450097     7014941             Лента               598.0                  51  \n",
       "2690829     7014941             Лента               598.0                  51  \n",
       "1079174     6827179        Дым Дымычъ                43.0                  42  \n",
       "...             ...               ...                 ...                 ...  \n",
       "2084622     5470642               NaN               706.0                 487  \n",
       "152237      7072074       Green Apple               930.0                 543  \n",
       "2684185     7072074       Green Apple               930.0                 543  \n",
       "2715311     5474198  Tarrington House               431.0                 429  \n",
       "2614246     5469051  Tarrington House               923.0                 541  \n",
       "\n",
       "[2868255 rows x 12 columns]"
      ]
     },
     "execution_count": 29,
     "metadata": {},
     "output_type": "execute_result"
    }
   ],
   "source": [
    "# очистка\n",
    "products = produ\n",
    "products"
   ]
  },
  {
   "cell_type": "markdown",
   "id": "adjustable-highland",
   "metadata": {},
   "source": [
    "## Найдем потраченные деньги каждым пользователем"
   ]
  },
  {
   "cell_type": "code",
   "execution_count": 19,
   "id": "polished-tourism",
   "metadata": {},
   "outputs": [],
   "source": [
    "sum_user = products.groupby([\"user_id\"])[\"Sumprice\"].sum().rename(\"sum_user\")"
   ]
  },
  {
   "cell_type": "code",
   "execution_count": 20,
   "id": "dressed-investigation",
   "metadata": {},
   "outputs": [
    {
     "data": {
      "text/plain": [
       "<AxesSubplot:>"
      ]
     },
     "execution_count": 20,
     "metadata": {},
     "output_type": "execute_result"
    },
    {
     "data": {
      "image/png": "[encoded data removed]",
      "text/plain": [
       "<Figure size 432x288 with 1 Axes>"
      ]
     },
     "metadata": {
      "needs_background": "light"
     },
     "output_type": "display_data"
    }
   ],
   "source": [
    "sum_user[(200000>sum_user)&(20000<sum_user) ].hist(bins =100)"
   ]
  },
  {
   "cell_type": "markdown",
   "id": "smart-surname",
   "metadata": {},
   "source": [
    "Видно, что это почти непрерывная экспонента"
   ]
  },
  {
   "cell_type": "code",
   "execution_count": 21,
   "id": "dutch-proposal",
   "metadata": {},
   "outputs": [
    {
     "data": {
      "text/plain": [
       "<AxesSubplot:>"
      ]
     },
     "execution_count": 21,
     "metadata": {},
     "output_type": "execute_result"
    },
    {
     "data": {
      "image/png": "[encoded data removed]",
      "text/plain": [
       "<Figure size 432x288 with 1 Axes>"
      ]
     },
     "metadata": {
      "needs_background": "light"
     },
     "output_type": "display_data"
    }
   ],
   "source": [
    "sum_user[(100000<sum_user) ].hist(bins =100)"
   ]
  },
  {
   "cell_type": "markdown",
   "id": "characteristic-vinyl",
   "metadata": {},
   "source": [
    "обрежу на 200к"
   ]
  },
  {
   "cell_type": "code",
   "execution_count": 22,
   "id": "moderate-listening",
   "metadata": {},
   "outputs": [],
   "source": [
    "products = products[~products[\"user_id\"].isin(sum_user[(200000<sum_user) ].index)]"
   ]
  },
  {
   "cell_type": "markdown",
   "id": "interesting-federal",
   "metadata": {},
   "source": [
    "# Черновик"
   ]
  },
  {
   "cell_type": "code",
   "execution_count": 23,
   "id": "informal-nashville",
   "metadata": {},
   "outputs": [],
   "source": [
    "products = products[products['line_item_id']!= 123437791] #артефакт\n"
   ]
  },
  {
   "cell_type": "code",
   "execution_count": 24,
   "id": "ongoing-window",
   "metadata": {},
   "outputs": [
    {
     "data": {
      "text/plain": [
       "<pandas.core.groupby.generic.SeriesGroupBy object at 0x0000013EA04534F0>"
      ]
     },
     "execution_count": 24,
     "metadata": {},
     "output_type": "execute_result"
    }
   ],
   "source": [
    "products.groupby('user_id')[\"price\"]"
   ]
  },
  {
   "cell_type": "code",
   "execution_count": 25,
   "id": "bored-minimum",
   "metadata": {},
   "outputs": [],
   "source": []
  },
  {
   "cell_type": "code",
   "execution_count": null,
   "id": "cognitive-store",
   "metadata": {},
   "outputs": [],
   "source": []
  }
 ],
 "metadata": {
  "kernelspec": {
   "display_name": "Python 3",
   "language": "python",
   "name": "python3"
  },
  "language_info": {
   "codemirror_mode": {
    "name": "ipython",
    "version": 3
   },
   "file_extension": ".py",
   "mimetype": "text/x-python",
   "name": "python",
   "nbconvert_exporter": "python",
   "pygments_lexer": "ipython3",
   "version": "3.8.5"
  }
 },
 "nbformat": 4,
 "nbformat_minor": 5
}
